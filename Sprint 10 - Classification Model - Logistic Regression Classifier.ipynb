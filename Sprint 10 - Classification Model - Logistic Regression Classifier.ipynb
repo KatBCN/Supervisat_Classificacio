{
 "cells": [
  {
   "cell_type": "markdown",
   "id": "98b21b19",
   "metadata": {},
   "source": [
    "# <font color='#d50283'>IT Academy - Data Science Itinerary</font>\n",
    "## Sprint 10 Task 1 - Supervised Classification\n",
    "### Model 2: Logistic Regression Classifier\n",
    "\n",
    "### Assignment by: Kat Weissman\n",
    "\n",
    "#### General objective:\n",
    "\n",
    "- Practice and become familiar with classification algorithms.\n",
    "\n",
    "#### Python Learning Objectives:\n",
    "- Classification trees\n",
    "- KNN - k-Nearest Neighbors\n",
    "- Logistic Regression\n",
    "- Support Vector Machine\n",
    "- XGboost"
   ]
  },
  {
   "cell_type": "markdown",
   "id": "6ce01116",
   "metadata": {},
   "source": [
    "*Recommended learning resources:*\n",
    "- https://www.datacamp.com/community/tutorials/decision-tree-classification-python\n",
    "- https://towardsdatascience.com/how-to-best-evaluate-a-classification-model-2edb12bcc587\n",
    "- https://www.ritchieng.com/machine-learning-evaluate-classification-model/\n",
    "- https://towardsdatascience.com/hackcvilleds-4636c6c1ba53\n",
    "- https://scikit-learn.org/stable/modules/cross_validation.html\n",
    "\n",
    "Classification Models:\n",
    "- https://stackabuse.com/k-nearest-neighbors-algorithm-in-python-and-scikit-learn/\n",
    "- https://www.datacamp.com/community/tutorials/understanding-logistic-regression-python\n",
    "- https://towardsdatascience.com/logistic-regression-using-python-sklearn-numpy-mnist-handwriting-recognition-matplotlib-a6b31e2b166a\n",
    "- https://www.datacamp.com/community/tutorials/svm-classification-scikit-learn-python\n",
    "- https://www.datacamp.com/community/tutorials/xgboost-in-python\n",
    "\n",
    "Imbalanced Data:\n",
    "- https://towardsdatascience.com/methods-for-dealing-with-imbalanced-data-5b761be45a18\n",
    "- https://www.kdnuggets.com/2019/05/fix-unbalanced-dataset.html\n",
    "- https://machinelearningmastery.com/tactics-to-combat-imbalanced-classes-in-your-machine-learning-dataset/\n",
    "- https://machinelearningmastery.com/smote-oversampling-for-imbalanced-classification/"
   ]
  },
  {
   "cell_type": "code",
   "execution_count": 1,
   "id": "7b505a6a",
   "metadata": {
    "ExecuteTime": {
     "end_time": "2021-07-22T10:31:49.600112Z",
     "start_time": "2021-07-22T10:31:49.590900Z"
    }
   },
   "outputs": [],
   "source": [
    "#Import libraries - basic\n",
    "import numpy as np\n",
    "import pandas as pd\n",
    "import matplotlib.pyplot as plt\n",
    "import seaborn as sns\n",
    "from scipy import stats"
   ]
  },
  {
   "cell_type": "code",
   "execution_count": 2,
   "id": "254bc383",
   "metadata": {},
   "outputs": [],
   "source": [
    "#Import libraries - classification\n",
    "from sklearn.model_selection import train_test_split\n",
    "from sklearn import metrics\n",
    "from sklearn.linear_model import LogisticRegression\n",
    "from sklearn.model_selection import KFold\n",
    "from sklearn.model_selection import cross_val_score\n",
    "from sklearn.model_selection import StratifiedKFold"
   ]
  },
  {
   "cell_type": "markdown",
   "id": "0b26aee1",
   "metadata": {},
   "source": [
    "### Level 1\n",
    "### Exercise 1 \n",
    "Create at least three different classification models to try to best predict DelayedFlights.csv flight delay (ArrDelay). Consider whether the flight is late or not (ArrDelay> 0).\n",
    "\n",
    "Reference: https://towardsdatascience.com/lazy-predict-fit-and-evaluate-all-the-models-from-scikit-learn-with-a-single-line-of-code-7fe510c7281"
   ]
  },
  {
   "cell_type": "code",
   "execution_count": 3,
   "id": "6e0f87d6",
   "metadata": {},
   "outputs": [],
   "source": [
    "pd.set_option('display.max_columns', None)  #set display to show all columns"
   ]
  },
  {
   "cell_type": "markdown",
   "id": "3b585e1b",
   "metadata": {},
   "source": [
    "I will load the data which I pre-processed and applied the SMOTE technique for sampling in a different notebook.\n",
    "\n",
    "- https://github.com/KatBCN/Supervisat_Classificacio/blob/main/Sprint%2010%20-%20Classification%20Model%20-%20Pre-Processing.ipynb"
   ]
  },
  {
   "cell_type": "code",
   "execution_count": 4,
   "id": "276e8c30",
   "metadata": {},
   "outputs": [],
   "source": [
    "data_link = 'https://github.com/KatBCN/Supervisat_Classificacio/blob/main/flights-sampled-smoted.pkl.bz2?raw=true'\n",
    "df = pd.read_pickle(data_link,compression='bz2')"
   ]
  },
  {
   "cell_type": "markdown",
   "id": "0930e7af",
   "metadata": {},
   "source": [
    "#### Data Exploration"
   ]
  },
  {
   "cell_type": "code",
   "execution_count": 5,
   "id": "676b7b91",
   "metadata": {},
   "outputs": [
    {
     "data": {
      "text/plain": [
       "(172248, 20)"
      ]
     },
     "execution_count": 5,
     "metadata": {},
     "output_type": "execute_result"
    }
   ],
   "source": [
    "# Show number of rows and columns in dataframe\n",
    "df.shape"
   ]
  },
  {
   "cell_type": "code",
   "execution_count": 6,
   "id": "fe56a352",
   "metadata": {
    "scrolled": false
   },
   "outputs": [
    {
     "data": {
      "text/plain": [
       "Index(['Month', 'DayOfWeek', 'DepTime', 'CRSDepTime', 'ArrTime', 'CRSArrTime',\n",
       "       'UniqueCarrier', 'ActualElapsedTime', 'CRSElapsedTime', 'AirTime',\n",
       "       'ArrDelay', 'DepDelay', 'Origin', 'Dest', 'Distance', 'TaxiIn',\n",
       "       'TaxiOut', 'Cancelled', 'Diverted', 'Delayed'],\n",
       "      dtype='object')"
      ]
     },
     "execution_count": 6,
     "metadata": {},
     "output_type": "execute_result"
    }
   ],
   "source": [
    "# Show column names\n",
    "df.columns"
   ]
  },
  {
   "cell_type": "code",
   "execution_count": 7,
   "id": "da2379e4",
   "metadata": {
    "scrolled": false
   },
   "outputs": [
    {
     "data": {
      "text/html": [
       "<div>\n",
       "<style scoped>\n",
       "    .dataframe tbody tr th:only-of-type {\n",
       "        vertical-align: middle;\n",
       "    }\n",
       "\n",
       "    .dataframe tbody tr th {\n",
       "        vertical-align: top;\n",
       "    }\n",
       "\n",
       "    .dataframe thead th {\n",
       "        text-align: right;\n",
       "    }\n",
       "</style>\n",
       "<table border=\"1\" class=\"dataframe\">\n",
       "  <thead>\n",
       "    <tr style=\"text-align: right;\">\n",
       "      <th></th>\n",
       "      <th>Month</th>\n",
       "      <th>DayOfWeek</th>\n",
       "      <th>DepTime</th>\n",
       "      <th>CRSDepTime</th>\n",
       "      <th>ArrTime</th>\n",
       "      <th>CRSArrTime</th>\n",
       "      <th>UniqueCarrier</th>\n",
       "      <th>ActualElapsedTime</th>\n",
       "      <th>CRSElapsedTime</th>\n",
       "      <th>AirTime</th>\n",
       "      <th>ArrDelay</th>\n",
       "      <th>DepDelay</th>\n",
       "      <th>Origin</th>\n",
       "      <th>Dest</th>\n",
       "      <th>Distance</th>\n",
       "      <th>TaxiIn</th>\n",
       "      <th>TaxiOut</th>\n",
       "      <th>Cancelled</th>\n",
       "      <th>Diverted</th>\n",
       "      <th>Delayed</th>\n",
       "    </tr>\n",
       "  </thead>\n",
       "  <tbody>\n",
       "    <tr>\n",
       "      <th>0</th>\n",
       "      <td>7</td>\n",
       "      <td>5</td>\n",
       "      <td>1511.0</td>\n",
       "      <td>1505</td>\n",
       "      <td>1740.0</td>\n",
       "      <td>1740</td>\n",
       "      <td>WN</td>\n",
       "      <td>269.0</td>\n",
       "      <td>275.0</td>\n",
       "      <td>252.0</td>\n",
       "      <td>0.0</td>\n",
       "      <td>6.0</td>\n",
       "      <td>BNA</td>\n",
       "      <td>OAK</td>\n",
       "      <td>1959</td>\n",
       "      <td>5.0</td>\n",
       "      <td>12.0</td>\n",
       "      <td>0</td>\n",
       "      <td>0</td>\n",
       "      <td>0</td>\n",
       "    </tr>\n",
       "    <tr>\n",
       "      <th>1</th>\n",
       "      <td>1</td>\n",
       "      <td>5</td>\n",
       "      <td>1736.0</td>\n",
       "      <td>1730</td>\n",
       "      <td>1913.0</td>\n",
       "      <td>1858</td>\n",
       "      <td>FL</td>\n",
       "      <td>97.0</td>\n",
       "      <td>88.0</td>\n",
       "      <td>69.0</td>\n",
       "      <td>15.0</td>\n",
       "      <td>6.0</td>\n",
       "      <td>BOS</td>\n",
       "      <td>BWI</td>\n",
       "      <td>370</td>\n",
       "      <td>9.0</td>\n",
       "      <td>19.0</td>\n",
       "      <td>0</td>\n",
       "      <td>0</td>\n",
       "      <td>1</td>\n",
       "    </tr>\n",
       "    <tr>\n",
       "      <th>2</th>\n",
       "      <td>4</td>\n",
       "      <td>2</td>\n",
       "      <td>1611.0</td>\n",
       "      <td>1600</td>\n",
       "      <td>1711.0</td>\n",
       "      <td>1700</td>\n",
       "      <td>WN</td>\n",
       "      <td>60.0</td>\n",
       "      <td>60.0</td>\n",
       "      <td>41.0</td>\n",
       "      <td>11.0</td>\n",
       "      <td>11.0</td>\n",
       "      <td>ONT</td>\n",
       "      <td>LAS</td>\n",
       "      <td>197</td>\n",
       "      <td>3.0</td>\n",
       "      <td>16.0</td>\n",
       "      <td>0</td>\n",
       "      <td>0</td>\n",
       "      <td>1</td>\n",
       "    </tr>\n",
       "    <tr>\n",
       "      <th>3</th>\n",
       "      <td>5</td>\n",
       "      <td>5</td>\n",
       "      <td>1551.0</td>\n",
       "      <td>1535</td>\n",
       "      <td>1803.0</td>\n",
       "      <td>1740</td>\n",
       "      <td>WN</td>\n",
       "      <td>132.0</td>\n",
       "      <td>125.0</td>\n",
       "      <td>121.0</td>\n",
       "      <td>23.0</td>\n",
       "      <td>16.0</td>\n",
       "      <td>STL</td>\n",
       "      <td>HOU</td>\n",
       "      <td>687</td>\n",
       "      <td>3.0</td>\n",
       "      <td>8.0</td>\n",
       "      <td>0</td>\n",
       "      <td>0</td>\n",
       "      <td>1</td>\n",
       "    </tr>\n",
       "    <tr>\n",
       "      <th>4</th>\n",
       "      <td>4</td>\n",
       "      <td>3</td>\n",
       "      <td>1754.0</td>\n",
       "      <td>1725</td>\n",
       "      <td>1834.0</td>\n",
       "      <td>1820</td>\n",
       "      <td>WN</td>\n",
       "      <td>100.0</td>\n",
       "      <td>115.0</td>\n",
       "      <td>86.0</td>\n",
       "      <td>14.0</td>\n",
       "      <td>29.0</td>\n",
       "      <td>SLC</td>\n",
       "      <td>LAX</td>\n",
       "      <td>590</td>\n",
       "      <td>6.0</td>\n",
       "      <td>8.0</td>\n",
       "      <td>0</td>\n",
       "      <td>0</td>\n",
       "      <td>1</td>\n",
       "    </tr>\n",
       "  </tbody>\n",
       "</table>\n",
       "</div>"
      ],
      "text/plain": [
       "  Month DayOfWeek  DepTime  CRSDepTime  ArrTime  CRSArrTime UniqueCarrier  \\\n",
       "0     7         5   1511.0        1505   1740.0        1740            WN   \n",
       "1     1         5   1736.0        1730   1913.0        1858            FL   \n",
       "2     4         2   1611.0        1600   1711.0        1700            WN   \n",
       "3     5         5   1551.0        1535   1803.0        1740            WN   \n",
       "4     4         3   1754.0        1725   1834.0        1820            WN   \n",
       "\n",
       "   ActualElapsedTime  CRSElapsedTime  AirTime  ArrDelay  DepDelay Origin Dest  \\\n",
       "0              269.0           275.0    252.0       0.0       6.0    BNA  OAK   \n",
       "1               97.0            88.0     69.0      15.0       6.0    BOS  BWI   \n",
       "2               60.0            60.0     41.0      11.0      11.0    ONT  LAS   \n",
       "3              132.0           125.0    121.0      23.0      16.0    STL  HOU   \n",
       "4              100.0           115.0     86.0      14.0      29.0    SLC  LAX   \n",
       "\n",
       "   Distance  TaxiIn  TaxiOut Cancelled Diverted  Delayed  \n",
       "0      1959     5.0     12.0         0        0        0  \n",
       "1       370     9.0     19.0         0        0        1  \n",
       "2       197     3.0     16.0         0        0        1  \n",
       "3       687     3.0      8.0         0        0        1  \n",
       "4       590     6.0      8.0         0        0        1  "
      ]
     },
     "execution_count": 7,
     "metadata": {},
     "output_type": "execute_result"
    }
   ],
   "source": [
    "# Display first 5 rows of dataframe\n",
    "df.head(5)"
   ]
  },
  {
   "cell_type": "code",
   "execution_count": 8,
   "id": "200225ad",
   "metadata": {
    "scrolled": false
   },
   "outputs": [
    {
     "data": {
      "text/plain": [
       "Month                 object\n",
       "DayOfWeek             object\n",
       "DepTime              float64\n",
       "CRSDepTime             int64\n",
       "ArrTime              float64\n",
       "CRSArrTime             int64\n",
       "UniqueCarrier         object\n",
       "ActualElapsedTime    float64\n",
       "CRSElapsedTime       float64\n",
       "AirTime              float64\n",
       "ArrDelay             float64\n",
       "DepDelay             float64\n",
       "Origin                object\n",
       "Dest                  object\n",
       "Distance               int64\n",
       "TaxiIn               float64\n",
       "TaxiOut              float64\n",
       "Cancelled             object\n",
       "Diverted              object\n",
       "Delayed                int64\n",
       "dtype: object"
      ]
     },
     "execution_count": 8,
     "metadata": {},
     "output_type": "execute_result"
    }
   ],
   "source": [
    "# check data set variables\n",
    "df.dtypes"
   ]
  },
  {
   "cell_type": "code",
   "execution_count": 9,
   "id": "a2dec1f7",
   "metadata": {
    "scrolled": true
   },
   "outputs": [
    {
     "data": {
      "text/plain": [
       "0"
      ]
     },
     "execution_count": 9,
     "metadata": {},
     "output_type": "execute_result"
    }
   ],
   "source": [
    "# Check for duplicates\n",
    "sum(df.duplicated())"
   ]
  },
  {
   "cell_type": "markdown",
   "id": "19ceecae",
   "metadata": {},
   "source": [
    "### Model 2 - Logistic Regression Classifier\n",
    "\n",
    "The second model will be a Logistic Regression Classifier.\n",
    "\n",
    "I would like to know if we can predict if a flight will be delayed based on actual elapsed time, distance, TaxiIn, and TaxiOut.\n",
    "\n",
    "I performed the same task using a Decision Tree Classifier in a different notebook:\n",
    "- https://github.com/KatBCN/Supervisat_Classificacio/blob/main/Sprint%2010%20-%20Classification%20Model%20-%20Classification%20Tree.ipynb"
   ]
  },
  {
   "cell_type": "code",
   "execution_count": 10,
   "id": "7b50e2df",
   "metadata": {},
   "outputs": [],
   "source": [
    "X = df[['ActualElapsedTime', 'Distance', 'TaxiIn', 'TaxiOut']]\n",
    "y = df['Delayed']\n",
    "X_train, X_test, y_train, y_test = train_test_split(X, y, test_size=.2, random_state=42)"
   ]
  },
  {
   "cell_type": "code",
   "execution_count": 11,
   "id": "bb51ad77",
   "metadata": {},
   "outputs": [
    {
     "data": {
      "text/html": [
       "<div>\n",
       "<style scoped>\n",
       "    .dataframe tbody tr th:only-of-type {\n",
       "        vertical-align: middle;\n",
       "    }\n",
       "\n",
       "    .dataframe tbody tr th {\n",
       "        vertical-align: top;\n",
       "    }\n",
       "\n",
       "    .dataframe thead th {\n",
       "        text-align: right;\n",
       "    }\n",
       "</style>\n",
       "<table border=\"1\" class=\"dataframe\">\n",
       "  <thead>\n",
       "    <tr style=\"text-align: right;\">\n",
       "      <th></th>\n",
       "      <th>ActualElapsedTime</th>\n",
       "      <th>Distance</th>\n",
       "      <th>TaxiIn</th>\n",
       "      <th>TaxiOut</th>\n",
       "    </tr>\n",
       "  </thead>\n",
       "  <tbody>\n",
       "    <tr>\n",
       "      <th>0</th>\n",
       "      <td>269.0</td>\n",
       "      <td>1959</td>\n",
       "      <td>5.0</td>\n",
       "      <td>12.0</td>\n",
       "    </tr>\n",
       "    <tr>\n",
       "      <th>1</th>\n",
       "      <td>97.0</td>\n",
       "      <td>370</td>\n",
       "      <td>9.0</td>\n",
       "      <td>19.0</td>\n",
       "    </tr>\n",
       "    <tr>\n",
       "      <th>2</th>\n",
       "      <td>60.0</td>\n",
       "      <td>197</td>\n",
       "      <td>3.0</td>\n",
       "      <td>16.0</td>\n",
       "    </tr>\n",
       "    <tr>\n",
       "      <th>3</th>\n",
       "      <td>132.0</td>\n",
       "      <td>687</td>\n",
       "      <td>3.0</td>\n",
       "      <td>8.0</td>\n",
       "    </tr>\n",
       "    <tr>\n",
       "      <th>4</th>\n",
       "      <td>100.0</td>\n",
       "      <td>590</td>\n",
       "      <td>6.0</td>\n",
       "      <td>8.0</td>\n",
       "    </tr>\n",
       "  </tbody>\n",
       "</table>\n",
       "</div>"
      ],
      "text/plain": [
       "   ActualElapsedTime  Distance  TaxiIn  TaxiOut\n",
       "0              269.0      1959     5.0     12.0\n",
       "1               97.0       370     9.0     19.0\n",
       "2               60.0       197     3.0     16.0\n",
       "3              132.0       687     3.0      8.0\n",
       "4              100.0       590     6.0      8.0"
      ]
     },
     "execution_count": 11,
     "metadata": {},
     "output_type": "execute_result"
    }
   ],
   "source": [
    "X.head()"
   ]
  },
  {
   "cell_type": "code",
   "execution_count": 12,
   "id": "8042c4af",
   "metadata": {},
   "outputs": [],
   "source": [
    "# all parameters not specified are set to their defaults\n",
    "clf = LogisticRegression()"
   ]
  },
  {
   "cell_type": "code",
   "execution_count": 13,
   "id": "32a2ed3d",
   "metadata": {},
   "outputs": [],
   "source": [
    "# Train Decision Tree Classifer\n",
    "clf = clf.fit(X_train,y_train)"
   ]
  },
  {
   "cell_type": "code",
   "execution_count": 14,
   "id": "31f415d3",
   "metadata": {},
   "outputs": [],
   "source": [
    "#Predict the response for test dataset\n",
    "y_pred = clf.predict(X_test)"
   ]
  },
  {
   "cell_type": "markdown",
   "id": "c81ba822",
   "metadata": {},
   "source": [
    "### Level 1\n",
    "### Exercise 2 : Confusion Matrix & Metrics\n",
    "Compare classification models using accuracy, a confidence matrix, and other more advanced metrics.\n",
    "\n",
    "Balanced Accuracy is important for imbalanced datasets. https://scikit-learn.org/stable/modules/generated/sklearn.metrics.balanced_accuracy_score.html\n",
    "\n",
    "In this case, I balanced the data using SMOTE before training the model, and I am also testing on the SMOTEd dataset, so the balanced accuracy should be similar to the accuracy."
   ]
  },
  {
   "cell_type": "code",
   "execution_count": 15,
   "id": "3a727c2d",
   "metadata": {},
   "outputs": [],
   "source": [
    "def evaluateModel(y_test, y_pred):\n",
    "    print(metrics.confusion_matrix(y_test, y_pred))\n",
    "    print(\"Accuracy:\",metrics.accuracy_score(y_test, y_pred))\n",
    "    print(\"Balanced Accuracy:\",metrics.balanced_accuracy_score(y_test, y_pred))\n",
    "    print(\"Classification Report:\")\n",
    "    print(metrics.classification_report(y_test, y_pred))"
   ]
  },
  {
   "cell_type": "markdown",
   "id": "d56580f0",
   "metadata": {},
   "source": [
    "The Logistic Regression classifier performs much worse than the Decision Tree Classifier, which was able to acheive an 88% accuracy. The Logistic Regression classifier is only 68% accurate using the same features as predictors."
   ]
  },
  {
   "cell_type": "code",
   "execution_count": 16,
   "id": "889b9377",
   "metadata": {
    "scrolled": false
   },
   "outputs": [
    {
     "name": "stdout",
     "output_type": "stream",
     "text": [
      "[[12444  4908]\n",
      " [ 5994 11104]]\n",
      "Accuracy: 0.6835413642960813\n",
      "Balanced Accuracy: 0.6832917214521381\n",
      "Classification Report:\n",
      "              precision    recall  f1-score   support\n",
      "\n",
      "           0       0.67      0.72      0.70     17352\n",
      "           1       0.69      0.65      0.67     17098\n",
      "\n",
      "    accuracy                           0.68     34450\n",
      "   macro avg       0.68      0.68      0.68     34450\n",
      "weighted avg       0.68      0.68      0.68     34450\n",
      "\n"
     ]
    }
   ],
   "source": [
    "# Logistic Regression Classifier Model Confusion Matrix\n",
    "evaluateModel(y_test,y_pred)"
   ]
  },
  {
   "cell_type": "markdown",
   "id": "5a5d85bc",
   "metadata": {},
   "source": [
    "### Level 1\n",
    "### Exercise 3 : Parameter Tuning\n",
    "Train them using the different parameters they support.\n",
    "\n",
    "- https://scikit-learn.org/stable/modules/generated/sklearn.linear_model.LogisticRegression.html?highlight=logistic%20regression#\n",
    "\n",
    "Default parameters:\n",
    "\n",
    "class sklearn.linear_model.LogisticRegression(penalty='l2', *, dual=False, tol=0.0001, C=1.0, fit_intercept=True, intercept_scaling=1, class_weight=None, random_state=None, solver='lbfgs', max_iter=100, multi_class='auto', verbose=0, warm_start=False, n_jobs=None, l1_ratio=None)\n"
   ]
  },
  {
   "cell_type": "markdown",
   "id": "d1e840b7",
   "metadata": {},
   "source": [
    "Here are the parameters I used in the first case:"
   ]
  },
  {
   "cell_type": "code",
   "execution_count": 17,
   "id": "86e6fe0b",
   "metadata": {
    "scrolled": false
   },
   "outputs": [
    {
     "data": {
      "text/plain": [
       "{'C': 1.0,\n",
       " 'class_weight': None,\n",
       " 'dual': False,\n",
       " 'fit_intercept': True,\n",
       " 'intercept_scaling': 1,\n",
       " 'l1_ratio': None,\n",
       " 'max_iter': 100,\n",
       " 'multi_class': 'auto',\n",
       " 'n_jobs': None,\n",
       " 'penalty': 'l2',\n",
       " 'random_state': None,\n",
       " 'solver': 'lbfgs',\n",
       " 'tol': 0.0001,\n",
       " 'verbose': 0,\n",
       " 'warm_start': False}"
      ]
     },
     "execution_count": 17,
     "metadata": {},
     "output_type": "execute_result"
    }
   ],
   "source": [
    "clf.get_params()"
   ]
  },
  {
   "cell_type": "markdown",
   "id": "df7b3d8f",
   "metadata": {},
   "source": [
    "## Continue HERE!\n",
    "\n",
    "For my second tree, I will change the criterion and limit the tree to a maximum depth of 20."
   ]
  },
  {
   "cell_type": "code",
   "execution_count": 20,
   "id": "7a50c5bc",
   "metadata": {},
   "outputs": [],
   "source": [
    "# Create Logistic Regression classifer object with different parameters\n",
    "clf2 = "
   ]
  },
  {
   "cell_type": "code",
   "execution_count": 21,
   "id": "dd4f621e",
   "metadata": {},
   "outputs": [],
   "source": [
    "# Train Decision Tree Classifer\n",
    "clf2 = clf2.fit(X_train,y_train)"
   ]
  },
  {
   "cell_type": "code",
   "execution_count": 22,
   "id": "763dc693",
   "metadata": {},
   "outputs": [],
   "source": [
    "#Predict the response for test dataset\n",
    "y_pred2 = clf2.predict(X_test)"
   ]
  },
  {
   "cell_type": "code",
   "execution_count": 23,
   "id": "5b4f635f",
   "metadata": {},
   "outputs": [
    {
     "name": "stdout",
     "output_type": "stream",
     "text": [
      "[[14509  2843]\n",
      " [  986 16112]]\n",
      "Accuracy: 0.8888534107402032\n",
      "Balanced Accuracy: 0.8892448259244392\n",
      "Classification Report:\n",
      "              precision    recall  f1-score   support\n",
      "\n",
      "           0       0.94      0.84      0.88     17352\n",
      "           1       0.85      0.94      0.89     17098\n",
      "\n",
      "    accuracy                           0.89     34450\n",
      "   macro avg       0.89      0.89      0.89     34450\n",
      "weighted avg       0.89      0.89      0.89     34450\n",
      "\n"
     ]
    }
   ],
   "source": [
    "# Logistic Regression Model Confusion Matrix\n",
    "evaluateModel(y_test,y_pred2)"
   ]
  },
  {
   "cell_type": "markdown",
   "id": "ef0f45cc",
   "metadata": {},
   "source": [
    "### Level 1\n",
    "### Exercise 4 : Cross Validation\n",
    "Compare your performance using the train / test or cross-validation approach.\n",
    "\n",
    "- https://scikit-learn.org/stable/modules/cross_validation.html"
   ]
  },
  {
   "cell_type": "markdown",
   "id": "fa81f735",
   "metadata": {},
   "source": [
    "Cross Validation on the first model of the Decision tree using the default parameters:"
   ]
  },
  {
   "cell_type": "code",
   "execution_count": 24,
   "id": "57a20571",
   "metadata": {
    "scrolled": true
   },
   "outputs": [
    {
     "name": "stderr",
     "output_type": "stream",
     "text": [
      "/Users/kat/opt/anaconda3/lib/python3.8/site-packages/sklearn/model_selection/_split.py:293: FutureWarning: Setting a random_state has no effect since shuffle is False. This will raise an error in 0.24. You should leave random_state to its default (None), or set shuffle=True.\n",
      "  warnings.warn(\n"
     ]
    },
    {
     "name": "stdout",
     "output_type": "stream",
     "text": [
      "0.88 accuracy with a standard deviation of 0.07\n"
     ]
    }
   ],
   "source": [
    "# k-fold cross validation evaluation of xgboost model\n",
    "# CV model\n",
    "model = DecisionTreeClassifier(random_state=324)\n",
    "kfold = KFold(n_splits=10, random_state=42)\n",
    "results = cross_val_score(model, X, y, cv=kfold)\n",
    "print(\"%0.2f accuracy with a standard deviation of %0.2f\" % (results.mean(), results.std()))"
   ]
  },
  {
   "cell_type": "markdown",
   "id": "2e859928",
   "metadata": {},
   "source": [
    "Stratified k-fold is important when the classes are imbalanced. In this case, it has similar results because I used SMOTE to balance the dataset before running the classification models."
   ]
  },
  {
   "cell_type": "code",
   "execution_count": 25,
   "id": "a7c0180a",
   "metadata": {},
   "outputs": [
    {
     "name": "stderr",
     "output_type": "stream",
     "text": [
      "/Users/kat/opt/anaconda3/lib/python3.8/site-packages/sklearn/model_selection/_split.py:293: FutureWarning: Setting a random_state has no effect since shuffle is False. This will raise an error in 0.24. You should leave random_state to its default (None), or set shuffle=True.\n",
      "  warnings.warn(\n"
     ]
    },
    {
     "name": "stdout",
     "output_type": "stream",
     "text": [
      "0.88 accuracy with a standard deviation of 0.11\n"
     ]
    }
   ],
   "source": [
    "# CV model\n",
    "model = DecisionTreeClassifier(random_state=324)\n",
    "# Using stratified KFold\n",
    "kfold = StratifiedKFold(n_splits=10, random_state=42)\n",
    "results = cross_val_score(model, X, y, cv=kfold)\n",
    "print(\"%0.2f accuracy with a standard deviation of %0.2f\" % (results.mean(), results.std()))"
   ]
  },
  {
   "cell_type": "markdown",
   "id": "c0a41f52",
   "metadata": {},
   "source": [
    "Cross Validation on the second model of the Decision tree using a maximum depth and 'entropy' as the criterion."
   ]
  },
  {
   "cell_type": "code",
   "execution_count": 26,
   "id": "ba948a9a",
   "metadata": {
    "scrolled": true
   },
   "outputs": [
    {
     "name": "stderr",
     "output_type": "stream",
     "text": [
      "/Users/kat/opt/anaconda3/lib/python3.8/site-packages/sklearn/model_selection/_split.py:293: FutureWarning: Setting a random_state has no effect since shuffle is False. This will raise an error in 0.24. You should leave random_state to its default (None), or set shuffle=True.\n",
      "  warnings.warn(\n"
     ]
    },
    {
     "name": "stdout",
     "output_type": "stream",
     "text": [
      "0.88 accuracy with a standard deviation of 0.03\n"
     ]
    }
   ],
   "source": [
    "# k-fold cross validation evaluation of xgboost model\n",
    "# CV model\n",
    "model = DecisionTreeClassifier(random_state=324, max_depth=20, criterion='entropy')\n",
    "kfold = KFold(n_splits=10, random_state=42)\n",
    "results = cross_val_score(model, X, y, cv=kfold)\n",
    "print(\"%0.2f accuracy with a standard deviation of %0.2f\" % (results.mean(), results.std()))"
   ]
  },
  {
   "cell_type": "code",
   "execution_count": 27,
   "id": "172cb1d3",
   "metadata": {
    "scrolled": true
   },
   "outputs": [
    {
     "name": "stderr",
     "output_type": "stream",
     "text": [
      "/Users/kat/opt/anaconda3/lib/python3.8/site-packages/sklearn/model_selection/_split.py:293: FutureWarning: Setting a random_state has no effect since shuffle is False. This will raise an error in 0.24. You should leave random_state to its default (None), or set shuffle=True.\n",
      "  warnings.warn(\n"
     ]
    },
    {
     "name": "stdout",
     "output_type": "stream",
     "text": [
      "0.88 accuracy with a standard deviation of 0.12\n"
     ]
    }
   ],
   "source": [
    "# CV model\n",
    "model = DecisionTreeClassifier(random_state=324, max_depth=20, criterion='entropy')\n",
    "# Using stratified KFold\n",
    "kfold = StratifiedKFold(n_splits=10, random_state=42)\n",
    "results = cross_val_score(model, X, y, cv=kfold)\n",
    "print(\"%0.2f accuracy with a standard deviation of %0.2f\" % (results.mean(), results.std()))"
   ]
  },
  {
   "cell_type": "markdown",
   "id": "cb518e80",
   "metadata": {},
   "source": [
    "Both trees have a similar performance to each other when using cross validation, but the second model is simpler because it has been limited to a depth of 20."
   ]
  }
 ],
 "metadata": {
  "kernelspec": {
   "display_name": "Python 3 (ipykernel)",
   "language": "python",
   "name": "python3"
  },
  "language_info": {
   "codemirror_mode": {
    "name": "ipython",
    "version": 3
   },
   "file_extension": ".py",
   "mimetype": "text/x-python",
   "name": "python",
   "nbconvert_exporter": "python",
   "pygments_lexer": "ipython3",
   "version": "3.8.8"
  },
  "nbTranslate": {
   "displayLangs": [
    "es",
    "en"
   ],
   "hotkey": "alt-t",
   "langInMainMenu": true,
   "sourceLang": "en",
   "targetLang": "es",
   "useGoogleTranslate": true
  },
  "varInspector": {
   "cols": {
    "lenName": 16,
    "lenType": 16,
    "lenVar": 40
   },
   "kernels_config": {
    "python": {
     "delete_cmd_postfix": "",
     "delete_cmd_prefix": "del ",
     "library": "var_list.py",
     "varRefreshCmd": "print(var_dic_list())"
    },
    "r": {
     "delete_cmd_postfix": ") ",
     "delete_cmd_prefix": "rm(",
     "library": "var_list.r",
     "varRefreshCmd": "cat(var_dic_list()) "
    }
   },
   "types_to_exclude": [
    "module",
    "function",
    "builtin_function_or_method",
    "instance",
    "_Feature"
   ],
   "window_display": false
  }
 },
 "nbformat": 4,
 "nbformat_minor": 5
}
