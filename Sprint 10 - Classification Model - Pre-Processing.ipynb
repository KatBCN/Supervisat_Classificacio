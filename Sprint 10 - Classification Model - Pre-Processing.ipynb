{
 "cells": [
  {
   "cell_type": "markdown",
   "id": "98b21b19",
   "metadata": {},
   "source": [
    "# <font color='#d50283'>IT Academy - Data Science Itinerary</font>\n",
    "## Sprint 10 Task 1 - Supervised Classification\n",
    "### Assignment by: Kat Weissman\n",
    "\n",
    "#### General objective:\n",
    "\n",
    "- Practice and become familiar with classification algorithms.\n",
    "\n",
    "#### Python Learning Objectives:\n",
    "- Classification trees\n",
    "- KNN - k-Nearest Neighbors\n",
    "- Logistic Regression\n",
    "- Support Vector Machine\n",
    "- XGboost"
   ]
  },
  {
   "cell_type": "markdown",
   "id": "6ce01116",
   "metadata": {},
   "source": [
    "*Recommended learning resources:*\n",
    "- https://www.datacamp.com/community/tutorials/decision-tree-classification-python\n",
    "- https://towardsdatascience.com/how-to-best-evaluate-a-classification-model-2edb12bcc587\n",
    "- https://www.ritchieng.com/machine-learning-evaluate-classification-model/\n",
    "- https://towardsdatascience.com/hackcvilleds-4636c6c1ba53\n",
    "- https://scikit-learn.org/stable/modules/cross_validation.html\n",
    "\n",
    "Classification Models:\n",
    "- https://stackabuse.com/k-nearest-neighbors-algorithm-in-python-and-scikit-learn/\n",
    "- https://www.datacamp.com/community/tutorials/understanding-logistic-regression-python\n",
    "- https://towardsdatascience.com/logistic-regression-using-python-sklearn-numpy-mnist-handwriting-recognition-matplotlib-a6b31e2b166a\n",
    "- https://www.datacamp.com/community/tutorials/svm-classification-scikit-learn-python\n",
    "- https://www.datacamp.com/community/tutorials/xgboost-in-python\n",
    "\n",
    "Imbalanced Data:\n",
    "- https://towardsdatascience.com/methods-for-dealing-with-imbalanced-data-5b761be45a18\n",
    "- https://www.kdnuggets.com/2019/05/fix-unbalanced-dataset.html\n",
    "- https://machinelearningmastery.com/tactics-to-combat-imbalanced-classes-in-your-machine-learning-dataset/\n",
    "- https://machinelearningmastery.com/smote-oversampling-for-imbalanced-classification/"
   ]
  },
  {
   "cell_type": "code",
   "execution_count": 1,
   "id": "7b505a6a",
   "metadata": {
    "ExecuteTime": {
     "end_time": "2021-07-22T10:31:49.600112Z",
     "start_time": "2021-07-22T10:31:49.590900Z"
    }
   },
   "outputs": [],
   "source": [
    "#Import libraries - basic\n",
    "import numpy as np\n",
    "import pandas as pd\n",
    "import matplotlib.pyplot as plt\n",
    "import seaborn as sns\n",
    "from scipy import stats"
   ]
  },
  {
   "cell_type": "code",
   "execution_count": 2,
   "id": "254bc383",
   "metadata": {},
   "outputs": [],
   "source": [
    "#Import libraries - classification\n",
    "from sklearn.model_selection import train_test_split\n",
    "from sklearn import metrics\n",
    "from sklearn.tree import DecisionTreeClassifier\n",
    "from sklearn.model_selection import KFold\n",
    "from sklearn.model_selection import cross_val_score\n",
    "from sklearn.model_selection import StratifiedKFold\n",
    "from imblearn.over_sampling import SMOTE\n",
    "from imblearn.over_sampling import SMOTENC"
   ]
  },
  {
   "cell_type": "markdown",
   "id": "0b26aee1",
   "metadata": {},
   "source": [
    "### Level 1\n",
    "### Exercise 1 \n",
    "Create at least three different classification models to try to best predict DelayedFlights.csv flight delay (ArrDelay). Consider whether the flight is late or not (ArrDelay> 0).\n",
    "\n",
    "Reference: https://towardsdatascience.com/lazy-predict-fit-and-evaluate-all-the-models-from-scikit-learn-with-a-single-line-of-code-7fe510c7281"
   ]
  },
  {
   "cell_type": "code",
   "execution_count": 3,
   "id": "6e0f87d6",
   "metadata": {},
   "outputs": [],
   "source": [
    "pd.set_option('display.max_columns', None)  #set display to show all columns"
   ]
  },
  {
   "cell_type": "code",
   "execution_count": 4,
   "id": "276e8c30",
   "metadata": {},
   "outputs": [],
   "source": [
    "data_link = '/Users/kat/Library/Mobile Documents/com~apple~CloudDocs/IT Academy/Data Science Itinerary/Data/DelayedFlights.csv'\n",
    "df = pd.read_csv(data_link)"
   ]
  },
  {
   "cell_type": "markdown",
   "id": "0930e7af",
   "metadata": {},
   "source": [
    "#### Data Exploration & Pre-processing"
   ]
  },
  {
   "cell_type": "code",
   "execution_count": 5,
   "id": "676b7b91",
   "metadata": {},
   "outputs": [
    {
     "data": {
      "text/plain": [
       "(1936758, 30)"
      ]
     },
     "execution_count": 5,
     "metadata": {},
     "output_type": "execute_result"
    }
   ],
   "source": [
    "# Show number of rows and columns in dataframe\n",
    "df.shape"
   ]
  },
  {
   "cell_type": "code",
   "execution_count": 6,
   "id": "fe56a352",
   "metadata": {
    "scrolled": false
   },
   "outputs": [
    {
     "data": {
      "text/plain": [
       "Index(['Unnamed: 0', 'Year', 'Month', 'DayofMonth', 'DayOfWeek', 'DepTime',\n",
       "       'CRSDepTime', 'ArrTime', 'CRSArrTime', 'UniqueCarrier', 'FlightNum',\n",
       "       'TailNum', 'ActualElapsedTime', 'CRSElapsedTime', 'AirTime', 'ArrDelay',\n",
       "       'DepDelay', 'Origin', 'Dest', 'Distance', 'TaxiIn', 'TaxiOut',\n",
       "       'Cancelled', 'CancellationCode', 'Diverted', 'CarrierDelay',\n",
       "       'WeatherDelay', 'NASDelay', 'SecurityDelay', 'LateAircraftDelay'],\n",
       "      dtype='object')"
      ]
     },
     "execution_count": 6,
     "metadata": {},
     "output_type": "execute_result"
    }
   ],
   "source": [
    "# Show column names\n",
    "df.columns"
   ]
  },
  {
   "cell_type": "code",
   "execution_count": 7,
   "id": "da2379e4",
   "metadata": {
    "scrolled": true
   },
   "outputs": [
    {
     "data": {
      "text/html": [
       "<div>\n",
       "<style scoped>\n",
       "    .dataframe tbody tr th:only-of-type {\n",
       "        vertical-align: middle;\n",
       "    }\n",
       "\n",
       "    .dataframe tbody tr th {\n",
       "        vertical-align: top;\n",
       "    }\n",
       "\n",
       "    .dataframe thead th {\n",
       "        text-align: right;\n",
       "    }\n",
       "</style>\n",
       "<table border=\"1\" class=\"dataframe\">\n",
       "  <thead>\n",
       "    <tr style=\"text-align: right;\">\n",
       "      <th></th>\n",
       "      <th>Unnamed: 0</th>\n",
       "      <th>Year</th>\n",
       "      <th>Month</th>\n",
       "      <th>DayofMonth</th>\n",
       "      <th>DayOfWeek</th>\n",
       "      <th>DepTime</th>\n",
       "      <th>CRSDepTime</th>\n",
       "      <th>ArrTime</th>\n",
       "      <th>CRSArrTime</th>\n",
       "      <th>UniqueCarrier</th>\n",
       "      <th>FlightNum</th>\n",
       "      <th>TailNum</th>\n",
       "      <th>ActualElapsedTime</th>\n",
       "      <th>CRSElapsedTime</th>\n",
       "      <th>AirTime</th>\n",
       "      <th>ArrDelay</th>\n",
       "      <th>DepDelay</th>\n",
       "      <th>Origin</th>\n",
       "      <th>Dest</th>\n",
       "      <th>Distance</th>\n",
       "      <th>TaxiIn</th>\n",
       "      <th>TaxiOut</th>\n",
       "      <th>Cancelled</th>\n",
       "      <th>CancellationCode</th>\n",
       "      <th>Diverted</th>\n",
       "      <th>CarrierDelay</th>\n",
       "      <th>WeatherDelay</th>\n",
       "      <th>NASDelay</th>\n",
       "      <th>SecurityDelay</th>\n",
       "      <th>LateAircraftDelay</th>\n",
       "    </tr>\n",
       "  </thead>\n",
       "  <tbody>\n",
       "    <tr>\n",
       "      <th>0</th>\n",
       "      <td>0</td>\n",
       "      <td>2008</td>\n",
       "      <td>1</td>\n",
       "      <td>3</td>\n",
       "      <td>4</td>\n",
       "      <td>2003.0</td>\n",
       "      <td>1955</td>\n",
       "      <td>2211.0</td>\n",
       "      <td>2225</td>\n",
       "      <td>WN</td>\n",
       "      <td>335</td>\n",
       "      <td>N712SW</td>\n",
       "      <td>128.0</td>\n",
       "      <td>150.0</td>\n",
       "      <td>116.0</td>\n",
       "      <td>-14.0</td>\n",
       "      <td>8.0</td>\n",
       "      <td>IAD</td>\n",
       "      <td>TPA</td>\n",
       "      <td>810</td>\n",
       "      <td>4.0</td>\n",
       "      <td>8.0</td>\n",
       "      <td>0</td>\n",
       "      <td>N</td>\n",
       "      <td>0</td>\n",
       "      <td>NaN</td>\n",
       "      <td>NaN</td>\n",
       "      <td>NaN</td>\n",
       "      <td>NaN</td>\n",
       "      <td>NaN</td>\n",
       "    </tr>\n",
       "    <tr>\n",
       "      <th>1</th>\n",
       "      <td>1</td>\n",
       "      <td>2008</td>\n",
       "      <td>1</td>\n",
       "      <td>3</td>\n",
       "      <td>4</td>\n",
       "      <td>754.0</td>\n",
       "      <td>735</td>\n",
       "      <td>1002.0</td>\n",
       "      <td>1000</td>\n",
       "      <td>WN</td>\n",
       "      <td>3231</td>\n",
       "      <td>N772SW</td>\n",
       "      <td>128.0</td>\n",
       "      <td>145.0</td>\n",
       "      <td>113.0</td>\n",
       "      <td>2.0</td>\n",
       "      <td>19.0</td>\n",
       "      <td>IAD</td>\n",
       "      <td>TPA</td>\n",
       "      <td>810</td>\n",
       "      <td>5.0</td>\n",
       "      <td>10.0</td>\n",
       "      <td>0</td>\n",
       "      <td>N</td>\n",
       "      <td>0</td>\n",
       "      <td>NaN</td>\n",
       "      <td>NaN</td>\n",
       "      <td>NaN</td>\n",
       "      <td>NaN</td>\n",
       "      <td>NaN</td>\n",
       "    </tr>\n",
       "    <tr>\n",
       "      <th>2</th>\n",
       "      <td>2</td>\n",
       "      <td>2008</td>\n",
       "      <td>1</td>\n",
       "      <td>3</td>\n",
       "      <td>4</td>\n",
       "      <td>628.0</td>\n",
       "      <td>620</td>\n",
       "      <td>804.0</td>\n",
       "      <td>750</td>\n",
       "      <td>WN</td>\n",
       "      <td>448</td>\n",
       "      <td>N428WN</td>\n",
       "      <td>96.0</td>\n",
       "      <td>90.0</td>\n",
       "      <td>76.0</td>\n",
       "      <td>14.0</td>\n",
       "      <td>8.0</td>\n",
       "      <td>IND</td>\n",
       "      <td>BWI</td>\n",
       "      <td>515</td>\n",
       "      <td>3.0</td>\n",
       "      <td>17.0</td>\n",
       "      <td>0</td>\n",
       "      <td>N</td>\n",
       "      <td>0</td>\n",
       "      <td>NaN</td>\n",
       "      <td>NaN</td>\n",
       "      <td>NaN</td>\n",
       "      <td>NaN</td>\n",
       "      <td>NaN</td>\n",
       "    </tr>\n",
       "    <tr>\n",
       "      <th>3</th>\n",
       "      <td>4</td>\n",
       "      <td>2008</td>\n",
       "      <td>1</td>\n",
       "      <td>3</td>\n",
       "      <td>4</td>\n",
       "      <td>1829.0</td>\n",
       "      <td>1755</td>\n",
       "      <td>1959.0</td>\n",
       "      <td>1925</td>\n",
       "      <td>WN</td>\n",
       "      <td>3920</td>\n",
       "      <td>N464WN</td>\n",
       "      <td>90.0</td>\n",
       "      <td>90.0</td>\n",
       "      <td>77.0</td>\n",
       "      <td>34.0</td>\n",
       "      <td>34.0</td>\n",
       "      <td>IND</td>\n",
       "      <td>BWI</td>\n",
       "      <td>515</td>\n",
       "      <td>3.0</td>\n",
       "      <td>10.0</td>\n",
       "      <td>0</td>\n",
       "      <td>N</td>\n",
       "      <td>0</td>\n",
       "      <td>2.0</td>\n",
       "      <td>0.0</td>\n",
       "      <td>0.0</td>\n",
       "      <td>0.0</td>\n",
       "      <td>32.0</td>\n",
       "    </tr>\n",
       "    <tr>\n",
       "      <th>4</th>\n",
       "      <td>5</td>\n",
       "      <td>2008</td>\n",
       "      <td>1</td>\n",
       "      <td>3</td>\n",
       "      <td>4</td>\n",
       "      <td>1940.0</td>\n",
       "      <td>1915</td>\n",
       "      <td>2121.0</td>\n",
       "      <td>2110</td>\n",
       "      <td>WN</td>\n",
       "      <td>378</td>\n",
       "      <td>N726SW</td>\n",
       "      <td>101.0</td>\n",
       "      <td>115.0</td>\n",
       "      <td>87.0</td>\n",
       "      <td>11.0</td>\n",
       "      <td>25.0</td>\n",
       "      <td>IND</td>\n",
       "      <td>JAX</td>\n",
       "      <td>688</td>\n",
       "      <td>4.0</td>\n",
       "      <td>10.0</td>\n",
       "      <td>0</td>\n",
       "      <td>N</td>\n",
       "      <td>0</td>\n",
       "      <td>NaN</td>\n",
       "      <td>NaN</td>\n",
       "      <td>NaN</td>\n",
       "      <td>NaN</td>\n",
       "      <td>NaN</td>\n",
       "    </tr>\n",
       "  </tbody>\n",
       "</table>\n",
       "</div>"
      ],
      "text/plain": [
       "   Unnamed: 0  Year  Month  DayofMonth  DayOfWeek  DepTime  CRSDepTime  \\\n",
       "0           0  2008      1           3          4   2003.0        1955   \n",
       "1           1  2008      1           3          4    754.0         735   \n",
       "2           2  2008      1           3          4    628.0         620   \n",
       "3           4  2008      1           3          4   1829.0        1755   \n",
       "4           5  2008      1           3          4   1940.0        1915   \n",
       "\n",
       "   ArrTime  CRSArrTime UniqueCarrier  FlightNum TailNum  ActualElapsedTime  \\\n",
       "0   2211.0        2225            WN        335  N712SW              128.0   \n",
       "1   1002.0        1000            WN       3231  N772SW              128.0   \n",
       "2    804.0         750            WN        448  N428WN               96.0   \n",
       "3   1959.0        1925            WN       3920  N464WN               90.0   \n",
       "4   2121.0        2110            WN        378  N726SW              101.0   \n",
       "\n",
       "   CRSElapsedTime  AirTime  ArrDelay  DepDelay Origin Dest  Distance  TaxiIn  \\\n",
       "0           150.0    116.0     -14.0       8.0    IAD  TPA       810     4.0   \n",
       "1           145.0    113.0       2.0      19.0    IAD  TPA       810     5.0   \n",
       "2            90.0     76.0      14.0       8.0    IND  BWI       515     3.0   \n",
       "3            90.0     77.0      34.0      34.0    IND  BWI       515     3.0   \n",
       "4           115.0     87.0      11.0      25.0    IND  JAX       688     4.0   \n",
       "\n",
       "   TaxiOut  Cancelled CancellationCode  Diverted  CarrierDelay  WeatherDelay  \\\n",
       "0      8.0          0                N         0           NaN           NaN   \n",
       "1     10.0          0                N         0           NaN           NaN   \n",
       "2     17.0          0                N         0           NaN           NaN   \n",
       "3     10.0          0                N         0           2.0           0.0   \n",
       "4     10.0          0                N         0           NaN           NaN   \n",
       "\n",
       "   NASDelay  SecurityDelay  LateAircraftDelay  \n",
       "0       NaN            NaN                NaN  \n",
       "1       NaN            NaN                NaN  \n",
       "2       NaN            NaN                NaN  \n",
       "3       0.0            0.0               32.0  \n",
       "4       NaN            NaN                NaN  "
      ]
     },
     "execution_count": 7,
     "metadata": {},
     "output_type": "execute_result"
    }
   ],
   "source": [
    "# Display first 5 rows of dataframe\n",
    "df.head(5)"
   ]
  },
  {
   "cell_type": "code",
   "execution_count": 8,
   "id": "200225ad",
   "metadata": {
    "scrolled": true
   },
   "outputs": [
    {
     "data": {
      "text/plain": [
       "Unnamed: 0             int64\n",
       "Year                   int64\n",
       "Month                  int64\n",
       "DayofMonth             int64\n",
       "DayOfWeek              int64\n",
       "DepTime              float64\n",
       "CRSDepTime             int64\n",
       "ArrTime              float64\n",
       "CRSArrTime             int64\n",
       "UniqueCarrier         object\n",
       "FlightNum              int64\n",
       "TailNum               object\n",
       "ActualElapsedTime    float64\n",
       "CRSElapsedTime       float64\n",
       "AirTime              float64\n",
       "ArrDelay             float64\n",
       "DepDelay             float64\n",
       "Origin                object\n",
       "Dest                  object\n",
       "Distance               int64\n",
       "TaxiIn               float64\n",
       "TaxiOut              float64\n",
       "Cancelled              int64\n",
       "CancellationCode      object\n",
       "Diverted               int64\n",
       "CarrierDelay         float64\n",
       "WeatherDelay         float64\n",
       "NASDelay             float64\n",
       "SecurityDelay        float64\n",
       "LateAircraftDelay    float64\n",
       "dtype: object"
      ]
     },
     "execution_count": 8,
     "metadata": {},
     "output_type": "execute_result"
    }
   ],
   "source": [
    "# check data set variables\n",
    "df.dtypes"
   ]
  },
  {
   "cell_type": "code",
   "execution_count": 9,
   "id": "a2dec1f7",
   "metadata": {},
   "outputs": [
    {
     "data": {
      "text/plain": [
       "0"
      ]
     },
     "execution_count": 9,
     "metadata": {},
     "output_type": "execute_result"
    }
   ],
   "source": [
    "# Check for duplicates\n",
    "sum(df.duplicated())"
   ]
  },
  {
   "cell_type": "markdown",
   "id": "375440c2",
   "metadata": {},
   "source": [
    "Plotting a diagonal correlation matrix: https://seaborn.pydata.org/examples/many_pairwise_correlations.html"
   ]
  },
  {
   "cell_type": "code",
   "execution_count": 10,
   "id": "a9fb24fb",
   "metadata": {},
   "outputs": [
    {
     "data": {
      "text/plain": [
       "<AxesSubplot:>"
      ]
     },
     "execution_count": 10,
     "metadata": {},
     "output_type": "execute_result"
    },
    {
     "data": {
      "image/png": "[encoded data removed]",
      "text/plain": [
       "<Figure size 792x648 with 2 Axes>"
      ]
     },
     "metadata": {
      "needs_background": "light"
     },
     "output_type": "display_data"
    }
   ],
   "source": [
    "# Compute the correlation matrix\n",
    "corr = df.corr()\n",
    "\n",
    "# Generate a mask for the upper triangle\n",
    "mask = np.triu(np.ones_like(corr, dtype=bool))\n",
    "\n",
    "# Set up the matplotlib figure\n",
    "f, ax = plt.subplots(figsize=(11, 9))\n",
    "\n",
    "# Generate a custom diverging colormap\n",
    "cmap = sns.diverging_palette(230, 20, as_cmap=True)\n",
    "\n",
    "# Draw the heatmap with the mask and correct aspect ratio\n",
    "sns.heatmap(corr, mask=mask, cmap=cmap, vmax=1, vmin= -1, center=0,\n",
    "            square=True, linewidths=.5, cbar_kws={\"shrink\": .5})"
   ]
  },
  {
   "cell_type": "markdown",
   "id": "7fc08bb2",
   "metadata": {},
   "source": [
    "DepDelay is the variable most correlated with ArrDelay. DepTime, TaxiIn, TaxiOut, CarrierDelay, WeatherDelay, NASDelay, and LateAircraftDelay also have some positive correlations with ArrDelay. DepDelay could be the sum of CarrierDelay, WeatherDelay, NASDelay, SecurityDelay, and LateAircraftDelay for any given flight, which is the case for Observation 3 in the data preview. I will repeat the evaluation and feature engineering which I did for the Regression models.\n",
    "\n",
    "Reference for categorized delays:\n",
    "https://www.bts.gov/topics/airlines-and-airports/understanding-reporting-causes-flight-delays-and-cancellations"
   ]
  },
  {
   "cell_type": "markdown",
   "id": "58dc48a3",
   "metadata": {},
   "source": [
    "#### Feature Engineering"
   ]
  },
  {
   "cell_type": "code",
   "execution_count": 11,
   "id": "d69fbace",
   "metadata": {},
   "outputs": [
    {
     "name": "stdout",
     "output_type": "stream",
     "text": [
      "count    1247488.0\n",
      "mean          63.0\n",
      "std           61.0\n",
      "min           15.0\n",
      "25%           26.0\n",
      "50%           43.0\n",
      "75%           79.0\n",
      "max         2461.0\n",
      "Name: SumDelay, dtype: float64 2\n",
      "count    1936758.0\n",
      "mean          43.0\n",
      "std           53.0\n",
      "min            6.0\n",
      "25%           12.0\n",
      "50%           24.0\n",
      "75%           53.0\n",
      "max         2467.0\n",
      "Name: DepDelay, dtype: float64 2\n"
     ]
    }
   ],
   "source": [
    "# Create new variable which is the sum of categorized delays\n",
    "df[\"SumDelay\"] = df.CarrierDelay + df.WeatherDelay + df.NASDelay + df.SecurityDelay + df.LateAircraftDelay\n",
    "# Display the summary statistics of \"SumDelay\" and \"DepDelay\" variables\n",
    "print(round(df.SumDelay.describe()),2)\n",
    "print(round(df.DepDelay.describe()),2)"
   ]
  },
  {
   "cell_type": "code",
   "execution_count": 12,
   "id": "41b8a350",
   "metadata": {
    "scrolled": true
   },
   "outputs": [
    {
     "name": "stdout",
     "output_type": "stream",
     "text": [
      "count    1247488.0\n",
      "mean           4.0\n",
      "std           19.0\n",
      "min         -181.0\n",
      "25%           -7.0\n",
      "50%            0.0\n",
      "75%           10.0\n",
      "max          759.0\n",
      "Name: Diff_SumDelay_DepDelay, dtype: float64 2\n"
     ]
    }
   ],
   "source": [
    "# Create new variable which is the difference of SumDelay and DepDelay and display summary stats\n",
    "df['Diff_SumDelay_DepDelay'] = df.SumDelay - df.DepDelay\n",
    "print(round(df.Diff_SumDelay_DepDelay.describe()),2)"
   ]
  },
  {
   "cell_type": "markdown",
   "id": "d8ec513d",
   "metadata": {},
   "source": [
    "DepDelay is not always equal to the sum of the categorized delays, however the value is very close. The median difference is 0, and a great majority of observations have an absolute difference of 10 minutes or less between SumDelay and DepDelay, with an average difference of 4 minutes."
   ]
  },
  {
   "cell_type": "code",
   "execution_count": 13,
   "id": "ef4c2180",
   "metadata": {
    "scrolled": false
   },
   "outputs": [
    {
     "data": {
      "text/plain": [
       "<AxesSubplot:xlabel='Diff_SumDelay_DepDelay', ylabel='Count'>"
      ]
     },
     "execution_count": 13,
     "metadata": {},
     "output_type": "execute_result"
    },
    {
     "data": {
      "image/png": "[encoded data removed]",
      "text/plain": [
       "<Figure size 432x288 with 1 Axes>"
      ]
     },
     "metadata": {
      "needs_background": "light"
     },
     "output_type": "display_data"
    }
   ],
   "source": [
    "# Show histogram of variable representing difference of SumDelay and DepDelay\n",
    "sns.histplot(data=df, x='Diff_SumDelay_DepDelay')"
   ]
  },
  {
   "cell_type": "code",
   "execution_count": 14,
   "id": "37f94265",
   "metadata": {
    "scrolled": true
   },
   "outputs": [
    {
     "data": {
      "text/plain": [
       "Unnamed: 0                     0\n",
       "Year                           0\n",
       "Month                          0\n",
       "DayofMonth                     0\n",
       "DayOfWeek                      0\n",
       "DepTime                        0\n",
       "CRSDepTime                     0\n",
       "ArrTime                     7110\n",
       "CRSArrTime                     0\n",
       "UniqueCarrier                  0\n",
       "FlightNum                      0\n",
       "TailNum                        5\n",
       "ActualElapsedTime           8387\n",
       "CRSElapsedTime               198\n",
       "AirTime                     8387\n",
       "ArrDelay                    8387\n",
       "DepDelay                       0\n",
       "Origin                         0\n",
       "Dest                           0\n",
       "Distance                       0\n",
       "TaxiIn                      7110\n",
       "TaxiOut                      455\n",
       "Cancelled                      0\n",
       "CancellationCode               0\n",
       "Diverted                       0\n",
       "CarrierDelay              689270\n",
       "WeatherDelay              689270\n",
       "NASDelay                  689270\n",
       "SecurityDelay             689270\n",
       "LateAircraftDelay         689270\n",
       "SumDelay                  689270\n",
       "Diff_SumDelay_DepDelay    689270\n",
       "dtype: int64"
      ]
     },
     "execution_count": 14,
     "metadata": {},
     "output_type": "execute_result"
    }
   ],
   "source": [
    "# Check for NA values\n",
    "df.isna().sum()"
   ]
  },
  {
   "cell_type": "markdown",
   "id": "b026b8cc",
   "metadata": {},
   "source": [
    "Since ArrDelay is the target variable, and we are interested in training a model which can predict whether or not there is a delay, I am going to remove the observations where ArrDelay is NA."
   ]
  },
  {
   "cell_type": "code",
   "execution_count": 15,
   "id": "dcfcc0d2",
   "metadata": {},
   "outputs": [],
   "source": [
    "# drop rows where ArrDelay is NA\n",
    "df = df.dropna(subset=['ArrDelay'])"
   ]
  },
  {
   "cell_type": "code",
   "execution_count": 16,
   "id": "4a5dc0d5",
   "metadata": {},
   "outputs": [
    {
     "data": {
      "text/plain": [
       "Unnamed: 0                     0\n",
       "Year                           0\n",
       "Month                          0\n",
       "DayofMonth                     0\n",
       "DayOfWeek                      0\n",
       "DepTime                        0\n",
       "CRSDepTime                     0\n",
       "ArrTime                        0\n",
       "CRSArrTime                     0\n",
       "UniqueCarrier                  0\n",
       "FlightNum                      0\n",
       "TailNum                        3\n",
       "ActualElapsedTime              0\n",
       "CRSElapsedTime                 0\n",
       "AirTime                        0\n",
       "ArrDelay                       0\n",
       "DepDelay                       0\n",
       "Origin                         0\n",
       "Dest                           0\n",
       "Distance                       0\n",
       "TaxiIn                         0\n",
       "TaxiOut                        0\n",
       "Cancelled                      0\n",
       "CancellationCode               0\n",
       "Diverted                       0\n",
       "CarrierDelay              680883\n",
       "WeatherDelay              680883\n",
       "NASDelay                  680883\n",
       "SecurityDelay             680883\n",
       "LateAircraftDelay         680883\n",
       "SumDelay                  680883\n",
       "Diff_SumDelay_DepDelay    680883\n",
       "dtype: int64"
      ]
     },
     "execution_count": 16,
     "metadata": {},
     "output_type": "execute_result"
    }
   ],
   "source": [
    "# Check for NA values\n",
    "df.isna().sum()"
   ]
  },
  {
   "cell_type": "markdown",
   "id": "3a22207d",
   "metadata": {},
   "source": [
    "\"For a feature to be treated as categorical, it must be expressed as object type in the underlying DataFrame.\" - https://towardsdatascience.com/lazy-predict-fit-and-evaluate-all-the-models-from-scikit-learn-with-a-single-line-of-code-7fe510c7281"
   ]
  },
  {
   "cell_type": "code",
   "execution_count": 17,
   "id": "71bd4e02",
   "metadata": {},
   "outputs": [],
   "source": [
    "# One-hot encode the ArrDelay\n",
    "df['Delayed'] = (df['ArrDelay'] > 0).astype(int)\n",
    "\n",
    "# Adjust data types for classification tasks\n",
    "df = df.astype({\"Year\": object,\n",
    "                \"Month\": object,\n",
    "                \"DayofMonth\": object,\n",
    "                \"DayOfWeek\": object,\n",
    "                \"FlightNum\": object,\n",
    "                \"Cancelled\": object,\n",
    "                \"Diverted\": object,\n",
    "                \"Delayed\": object,})"
   ]
  },
  {
   "cell_type": "code",
   "execution_count": 18,
   "id": "188e1559",
   "metadata": {},
   "outputs": [
    {
     "data": {
      "text/plain": [
       "1    0.893715\n",
       "0    0.106285\n",
       "Name: Delayed, dtype: float64"
      ]
     },
     "execution_count": 18,
     "metadata": {},
     "output_type": "execute_result"
    }
   ],
   "source": [
    "# Check percentage split of values in each category of one-hot encoding\n",
    "df.Delayed.value_counts(normalize = True)"
   ]
  },
  {
   "cell_type": "markdown",
   "id": "dfe9c89c",
   "metadata": {},
   "source": [
    "After removing the NA values for ArrDelay, the dataframe is large and almost has 2 million observations. For the purpose of learning how to implement the models in a timely manner, I will sample 5% of the dataframe. I have attempted creating models using the whole dataframe, but the amount of time needed is too long, and some algorithms seem to never end, especially SVM and XGBoost."
   ]
  },
  {
   "cell_type": "code",
   "execution_count": 19,
   "id": "79c4eb19",
   "metadata": {
    "scrolled": true
   },
   "outputs": [
    {
     "data": {
      "text/plain": [
       "(1928371, 33)"
      ]
     },
     "execution_count": 19,
     "metadata": {},
     "output_type": "execute_result"
    }
   ],
   "source": [
    "df.shape"
   ]
  },
  {
   "cell_type": "markdown",
   "id": "11a47f35",
   "metadata": {},
   "source": [
    "- https://pandas.pydata.org/docs/reference/api/pandas.DataFrame.sample.html\n",
    "\n",
    "Default arguments:\n",
    "\n",
    "DataFrame.sample(n=None, frac=None, replace=False, weights=None, random_state=None, axis=None, ignore_index=False)"
   ]
  },
  {
   "cell_type": "code",
   "execution_count": 20,
   "id": "bedc64f0",
   "metadata": {},
   "outputs": [],
   "source": [
    "df_sample = df.sample(frac=.05, random_state=324)"
   ]
  },
  {
   "cell_type": "code",
   "execution_count": 21,
   "id": "09d4f0b6",
   "metadata": {
    "scrolled": true
   },
   "outputs": [
    {
     "data": {
      "text/plain": [
       "(96419, 33)"
      ]
     },
     "execution_count": 21,
     "metadata": {},
     "output_type": "execute_result"
    }
   ],
   "source": [
    "df_sample.shape"
   ]
  },
  {
   "cell_type": "code",
   "execution_count": 22,
   "id": "dd6903a3",
   "metadata": {},
   "outputs": [
    {
     "data": {
      "text/html": [
       "<div>\n",
       "<style scoped>\n",
       "    .dataframe tbody tr th:only-of-type {\n",
       "        vertical-align: middle;\n",
       "    }\n",
       "\n",
       "    .dataframe tbody tr th {\n",
       "        vertical-align: top;\n",
       "    }\n",
       "\n",
       "    .dataframe thead th {\n",
       "        text-align: right;\n",
       "    }\n",
       "</style>\n",
       "<table border=\"1\" class=\"dataframe\">\n",
       "  <thead>\n",
       "    <tr style=\"text-align: right;\">\n",
       "      <th></th>\n",
       "      <th>Unnamed: 0</th>\n",
       "      <th>Year</th>\n",
       "      <th>Month</th>\n",
       "      <th>DayofMonth</th>\n",
       "      <th>DayOfWeek</th>\n",
       "      <th>DepTime</th>\n",
       "      <th>CRSDepTime</th>\n",
       "      <th>ArrTime</th>\n",
       "      <th>CRSArrTime</th>\n",
       "      <th>UniqueCarrier</th>\n",
       "      <th>FlightNum</th>\n",
       "      <th>TailNum</th>\n",
       "      <th>ActualElapsedTime</th>\n",
       "      <th>CRSElapsedTime</th>\n",
       "      <th>AirTime</th>\n",
       "      <th>ArrDelay</th>\n",
       "      <th>DepDelay</th>\n",
       "      <th>Origin</th>\n",
       "      <th>Dest</th>\n",
       "      <th>Distance</th>\n",
       "      <th>TaxiIn</th>\n",
       "      <th>TaxiOut</th>\n",
       "      <th>Cancelled</th>\n",
       "      <th>CancellationCode</th>\n",
       "      <th>Diverted</th>\n",
       "      <th>CarrierDelay</th>\n",
       "      <th>WeatherDelay</th>\n",
       "      <th>NASDelay</th>\n",
       "      <th>SecurityDelay</th>\n",
       "      <th>LateAircraftDelay</th>\n",
       "      <th>SumDelay</th>\n",
       "      <th>Diff_SumDelay_DepDelay</th>\n",
       "      <th>Delayed</th>\n",
       "    </tr>\n",
       "  </thead>\n",
       "  <tbody>\n",
       "    <tr>\n",
       "      <th>1098428</th>\n",
       "      <td>3654724</td>\n",
       "      <td>2008</td>\n",
       "      <td>7</td>\n",
       "      <td>18</td>\n",
       "      <td>5</td>\n",
       "      <td>1511.0</td>\n",
       "      <td>1505</td>\n",
       "      <td>1740.0</td>\n",
       "      <td>1740</td>\n",
       "      <td>WN</td>\n",
       "      <td>1418</td>\n",
       "      <td>N452WN</td>\n",
       "      <td>269.0</td>\n",
       "      <td>275.0</td>\n",
       "      <td>252.0</td>\n",
       "      <td>0.0</td>\n",
       "      <td>6.0</td>\n",
       "      <td>BNA</td>\n",
       "      <td>OAK</td>\n",
       "      <td>1959</td>\n",
       "      <td>5.0</td>\n",
       "      <td>12.0</td>\n",
       "      <td>0</td>\n",
       "      <td>N</td>\n",
       "      <td>0</td>\n",
       "      <td>NaN</td>\n",
       "      <td>NaN</td>\n",
       "      <td>NaN</td>\n",
       "      <td>NaN</td>\n",
       "      <td>NaN</td>\n",
       "      <td>NaN</td>\n",
       "      <td>NaN</td>\n",
       "      <td>0</td>\n",
       "    </tr>\n",
       "    <tr>\n",
       "      <th>112686</th>\n",
       "      <td>361246</td>\n",
       "      <td>2008</td>\n",
       "      <td>1</td>\n",
       "      <td>11</td>\n",
       "      <td>5</td>\n",
       "      <td>1736.0</td>\n",
       "      <td>1730</td>\n",
       "      <td>1913.0</td>\n",
       "      <td>1858</td>\n",
       "      <td>FL</td>\n",
       "      <td>327</td>\n",
       "      <td>N955AT</td>\n",
       "      <td>97.0</td>\n",
       "      <td>88.0</td>\n",
       "      <td>69.0</td>\n",
       "      <td>15.0</td>\n",
       "      <td>6.0</td>\n",
       "      <td>BOS</td>\n",
       "      <td>BWI</td>\n",
       "      <td>370</td>\n",
       "      <td>9.0</td>\n",
       "      <td>19.0</td>\n",
       "      <td>0</td>\n",
       "      <td>N</td>\n",
       "      <td>0</td>\n",
       "      <td>6.0</td>\n",
       "      <td>0.0</td>\n",
       "      <td>9.0</td>\n",
       "      <td>0.0</td>\n",
       "      <td>0.0</td>\n",
       "      <td>15.0</td>\n",
       "      <td>9.0</td>\n",
       "      <td>1</td>\n",
       "    </tr>\n",
       "    <tr>\n",
       "      <th>599454</th>\n",
       "      <td>1878648</td>\n",
       "      <td>2008</td>\n",
       "      <td>4</td>\n",
       "      <td>29</td>\n",
       "      <td>2</td>\n",
       "      <td>1611.0</td>\n",
       "      <td>1600</td>\n",
       "      <td>1711.0</td>\n",
       "      <td>1700</td>\n",
       "      <td>WN</td>\n",
       "      <td>884</td>\n",
       "      <td>N241WN</td>\n",
       "      <td>60.0</td>\n",
       "      <td>60.0</td>\n",
       "      <td>41.0</td>\n",
       "      <td>11.0</td>\n",
       "      <td>11.0</td>\n",
       "      <td>ONT</td>\n",
       "      <td>LAS</td>\n",
       "      <td>197</td>\n",
       "      <td>3.0</td>\n",
       "      <td>16.0</td>\n",
       "      <td>0</td>\n",
       "      <td>N</td>\n",
       "      <td>0</td>\n",
       "      <td>NaN</td>\n",
       "      <td>NaN</td>\n",
       "      <td>NaN</td>\n",
       "      <td>NaN</td>\n",
       "      <td>NaN</td>\n",
       "      <td>NaN</td>\n",
       "      <td>NaN</td>\n",
       "      <td>1</td>\n",
       "    </tr>\n",
       "    <tr>\n",
       "      <th>743117</th>\n",
       "      <td>2434787</td>\n",
       "      <td>2008</td>\n",
       "      <td>5</td>\n",
       "      <td>16</td>\n",
       "      <td>5</td>\n",
       "      <td>1551.0</td>\n",
       "      <td>1535</td>\n",
       "      <td>1803.0</td>\n",
       "      <td>1740</td>\n",
       "      <td>WN</td>\n",
       "      <td>1564</td>\n",
       "      <td>N718SW</td>\n",
       "      <td>132.0</td>\n",
       "      <td>125.0</td>\n",
       "      <td>121.0</td>\n",
       "      <td>23.0</td>\n",
       "      <td>16.0</td>\n",
       "      <td>STL</td>\n",
       "      <td>HOU</td>\n",
       "      <td>687</td>\n",
       "      <td>3.0</td>\n",
       "      <td>8.0</td>\n",
       "      <td>0</td>\n",
       "      <td>N</td>\n",
       "      <td>0</td>\n",
       "      <td>0.0</td>\n",
       "      <td>0.0</td>\n",
       "      <td>7.0</td>\n",
       "      <td>0.0</td>\n",
       "      <td>16.0</td>\n",
       "      <td>23.0</td>\n",
       "      <td>7.0</td>\n",
       "      <td>1</td>\n",
       "    </tr>\n",
       "    <tr>\n",
       "      <th>581400</th>\n",
       "      <td>1812607</td>\n",
       "      <td>2008</td>\n",
       "      <td>4</td>\n",
       "      <td>9</td>\n",
       "      <td>3</td>\n",
       "      <td>1754.0</td>\n",
       "      <td>1725</td>\n",
       "      <td>1834.0</td>\n",
       "      <td>1820</td>\n",
       "      <td>WN</td>\n",
       "      <td>2284</td>\n",
       "      <td>N686SW</td>\n",
       "      <td>100.0</td>\n",
       "      <td>115.0</td>\n",
       "      <td>86.0</td>\n",
       "      <td>14.0</td>\n",
       "      <td>29.0</td>\n",
       "      <td>SLC</td>\n",
       "      <td>LAX</td>\n",
       "      <td>590</td>\n",
       "      <td>6.0</td>\n",
       "      <td>8.0</td>\n",
       "      <td>0</td>\n",
       "      <td>N</td>\n",
       "      <td>0</td>\n",
       "      <td>NaN</td>\n",
       "      <td>NaN</td>\n",
       "      <td>NaN</td>\n",
       "      <td>NaN</td>\n",
       "      <td>NaN</td>\n",
       "      <td>NaN</td>\n",
       "      <td>NaN</td>\n",
       "      <td>1</td>\n",
       "    </tr>\n",
       "  </tbody>\n",
       "</table>\n",
       "</div>"
      ],
      "text/plain": [
       "         Unnamed: 0  Year Month DayofMonth DayOfWeek  DepTime  CRSDepTime  \\\n",
       "1098428     3654724  2008     7         18         5   1511.0        1505   \n",
       "112686       361246  2008     1         11         5   1736.0        1730   \n",
       "599454      1878648  2008     4         29         2   1611.0        1600   \n",
       "743117      2434787  2008     5         16         5   1551.0        1535   \n",
       "581400      1812607  2008     4          9         3   1754.0        1725   \n",
       "\n",
       "         ArrTime  CRSArrTime UniqueCarrier FlightNum TailNum  \\\n",
       "1098428   1740.0        1740            WN      1418  N452WN   \n",
       "112686    1913.0        1858            FL       327  N955AT   \n",
       "599454    1711.0        1700            WN       884  N241WN   \n",
       "743117    1803.0        1740            WN      1564  N718SW   \n",
       "581400    1834.0        1820            WN      2284  N686SW   \n",
       "\n",
       "         ActualElapsedTime  CRSElapsedTime  AirTime  ArrDelay  DepDelay  \\\n",
       "1098428              269.0           275.0    252.0       0.0       6.0   \n",
       "112686                97.0            88.0     69.0      15.0       6.0   \n",
       "599454                60.0            60.0     41.0      11.0      11.0   \n",
       "743117               132.0           125.0    121.0      23.0      16.0   \n",
       "581400               100.0           115.0     86.0      14.0      29.0   \n",
       "\n",
       "        Origin Dest  Distance  TaxiIn  TaxiOut Cancelled CancellationCode  \\\n",
       "1098428    BNA  OAK      1959     5.0     12.0         0                N   \n",
       "112686     BOS  BWI       370     9.0     19.0         0                N   \n",
       "599454     ONT  LAS       197     3.0     16.0         0                N   \n",
       "743117     STL  HOU       687     3.0      8.0         0                N   \n",
       "581400     SLC  LAX       590     6.0      8.0         0                N   \n",
       "\n",
       "        Diverted  CarrierDelay  WeatherDelay  NASDelay  SecurityDelay  \\\n",
       "1098428        0           NaN           NaN       NaN            NaN   \n",
       "112686         0           6.0           0.0       9.0            0.0   \n",
       "599454         0           NaN           NaN       NaN            NaN   \n",
       "743117         0           0.0           0.0       7.0            0.0   \n",
       "581400         0           NaN           NaN       NaN            NaN   \n",
       "\n",
       "         LateAircraftDelay  SumDelay  Diff_SumDelay_DepDelay Delayed  \n",
       "1098428                NaN       NaN                     NaN       0  \n",
       "112686                 0.0      15.0                     9.0       1  \n",
       "599454                 NaN       NaN                     NaN       1  \n",
       "743117                16.0      23.0                     7.0       1  \n",
       "581400                 NaN       NaN                     NaN       1  "
      ]
     },
     "execution_count": 22,
     "metadata": {},
     "output_type": "execute_result"
    }
   ],
   "source": [
    "df_sample.head()"
   ]
  },
  {
   "cell_type": "markdown",
   "id": "fc09befb",
   "metadata": {},
   "source": [
    "The target variable has a similar distribution between delayed and on-time arrivals in the 5% sample as the original dataset."
   ]
  },
  {
   "cell_type": "code",
   "execution_count": 23,
   "id": "9dcd790f",
   "metadata": {
    "scrolled": true
   },
   "outputs": [
    {
     "data": {
      "text/plain": [
       "1    0.893226\n",
       "0    0.106774\n",
       "Name: Delayed, dtype: float64"
      ]
     },
     "execution_count": 23,
     "metadata": {},
     "output_type": "execute_result"
    }
   ],
   "source": [
    "df_sample.Delayed.value_counts(normalize = True)"
   ]
  },
  {
   "cell_type": "markdown",
   "id": "bca446f7",
   "metadata": {},
   "source": [
    "The individual delay types such as Carrier, Weather, NAS, etc. have a high number of NAs compared to other variables, so we may not be able to use those variables as we did in the Regression models."
   ]
  },
  {
   "cell_type": "code",
   "execution_count": 24,
   "id": "91313e35",
   "metadata": {
    "scrolled": true
   },
   "outputs": [
    {
     "data": {
      "text/plain": [
       "Unnamed: 0                    0\n",
       "Year                          0\n",
       "Month                         0\n",
       "DayofMonth                    0\n",
       "DayOfWeek                     0\n",
       "DepTime                       0\n",
       "CRSDepTime                    0\n",
       "ArrTime                       0\n",
       "CRSArrTime                    0\n",
       "UniqueCarrier                 0\n",
       "FlightNum                     0\n",
       "TailNum                       0\n",
       "ActualElapsedTime             0\n",
       "CRSElapsedTime                0\n",
       "AirTime                       0\n",
       "ArrDelay                      0\n",
       "DepDelay                      0\n",
       "Origin                        0\n",
       "Dest                          0\n",
       "Distance                      0\n",
       "TaxiIn                        0\n",
       "TaxiOut                       0\n",
       "Cancelled                     0\n",
       "CancellationCode              0\n",
       "Diverted                      0\n",
       "CarrierDelay              33942\n",
       "WeatherDelay              33942\n",
       "NASDelay                  33942\n",
       "SecurityDelay             33942\n",
       "LateAircraftDelay         33942\n",
       "SumDelay                  33942\n",
       "Diff_SumDelay_DepDelay    33942\n",
       "Delayed                       0\n",
       "dtype: int64"
      ]
     },
     "execution_count": 24,
     "metadata": {},
     "output_type": "execute_result"
    }
   ],
   "source": [
    "df_sample.isna().sum()"
   ]
  },
  {
   "cell_type": "markdown",
   "id": "6eeac800",
   "metadata": {},
   "source": [
    "#### Saving Data File for Models"
   ]
  },
  {
   "cell_type": "markdown",
   "id": "e00db51f",
   "metadata": {},
   "source": [
    "I will save this data sample in a file that will be used to create the models in separate notebooks and confirm that is is written and can be read correctly."
   ]
  },
  {
   "cell_type": "code",
   "execution_count": 25,
   "id": "bda93039",
   "metadata": {},
   "outputs": [],
   "source": [
    "df_sample.to_pickle('flights-processed-sampled.pkl.bz2',compression='bz2')"
   ]
  },
  {
   "cell_type": "code",
   "execution_count": 26,
   "id": "c557ac62",
   "metadata": {},
   "outputs": [
    {
     "data": {
      "text/html": [
       "<div>\n",
       "<style scoped>\n",
       "    .dataframe tbody tr th:only-of-type {\n",
       "        vertical-align: middle;\n",
       "    }\n",
       "\n",
       "    .dataframe tbody tr th {\n",
       "        vertical-align: top;\n",
       "    }\n",
       "\n",
       "    .dataframe thead th {\n",
       "        text-align: right;\n",
       "    }\n",
       "</style>\n",
       "<table border=\"1\" class=\"dataframe\">\n",
       "  <thead>\n",
       "    <tr style=\"text-align: right;\">\n",
       "      <th></th>\n",
       "      <th>Unnamed: 0</th>\n",
       "      <th>Year</th>\n",
       "      <th>Month</th>\n",
       "      <th>DayofMonth</th>\n",
       "      <th>DayOfWeek</th>\n",
       "      <th>DepTime</th>\n",
       "      <th>CRSDepTime</th>\n",
       "      <th>ArrTime</th>\n",
       "      <th>CRSArrTime</th>\n",
       "      <th>UniqueCarrier</th>\n",
       "      <th>FlightNum</th>\n",
       "      <th>TailNum</th>\n",
       "      <th>ActualElapsedTime</th>\n",
       "      <th>CRSElapsedTime</th>\n",
       "      <th>AirTime</th>\n",
       "      <th>ArrDelay</th>\n",
       "      <th>DepDelay</th>\n",
       "      <th>Origin</th>\n",
       "      <th>Dest</th>\n",
       "      <th>Distance</th>\n",
       "      <th>TaxiIn</th>\n",
       "      <th>TaxiOut</th>\n",
       "      <th>Cancelled</th>\n",
       "      <th>CancellationCode</th>\n",
       "      <th>Diverted</th>\n",
       "      <th>CarrierDelay</th>\n",
       "      <th>WeatherDelay</th>\n",
       "      <th>NASDelay</th>\n",
       "      <th>SecurityDelay</th>\n",
       "      <th>LateAircraftDelay</th>\n",
       "      <th>SumDelay</th>\n",
       "      <th>Diff_SumDelay_DepDelay</th>\n",
       "      <th>Delayed</th>\n",
       "    </tr>\n",
       "  </thead>\n",
       "  <tbody>\n",
       "    <tr>\n",
       "      <th>1098428</th>\n",
       "      <td>3654724</td>\n",
       "      <td>2008</td>\n",
       "      <td>7</td>\n",
       "      <td>18</td>\n",
       "      <td>5</td>\n",
       "      <td>1511.0</td>\n",
       "      <td>1505</td>\n",
       "      <td>1740.0</td>\n",
       "      <td>1740</td>\n",
       "      <td>WN</td>\n",
       "      <td>1418</td>\n",
       "      <td>N452WN</td>\n",
       "      <td>269.0</td>\n",
       "      <td>275.0</td>\n",
       "      <td>252.0</td>\n",
       "      <td>0.0</td>\n",
       "      <td>6.0</td>\n",
       "      <td>BNA</td>\n",
       "      <td>OAK</td>\n",
       "      <td>1959</td>\n",
       "      <td>5.0</td>\n",
       "      <td>12.0</td>\n",
       "      <td>0</td>\n",
       "      <td>N</td>\n",
       "      <td>0</td>\n",
       "      <td>NaN</td>\n",
       "      <td>NaN</td>\n",
       "      <td>NaN</td>\n",
       "      <td>NaN</td>\n",
       "      <td>NaN</td>\n",
       "      <td>NaN</td>\n",
       "      <td>NaN</td>\n",
       "      <td>0</td>\n",
       "    </tr>\n",
       "    <tr>\n",
       "      <th>112686</th>\n",
       "      <td>361246</td>\n",
       "      <td>2008</td>\n",
       "      <td>1</td>\n",
       "      <td>11</td>\n",
       "      <td>5</td>\n",
       "      <td>1736.0</td>\n",
       "      <td>1730</td>\n",
       "      <td>1913.0</td>\n",
       "      <td>1858</td>\n",
       "      <td>FL</td>\n",
       "      <td>327</td>\n",
       "      <td>N955AT</td>\n",
       "      <td>97.0</td>\n",
       "      <td>88.0</td>\n",
       "      <td>69.0</td>\n",
       "      <td>15.0</td>\n",
       "      <td>6.0</td>\n",
       "      <td>BOS</td>\n",
       "      <td>BWI</td>\n",
       "      <td>370</td>\n",
       "      <td>9.0</td>\n",
       "      <td>19.0</td>\n",
       "      <td>0</td>\n",
       "      <td>N</td>\n",
       "      <td>0</td>\n",
       "      <td>6.0</td>\n",
       "      <td>0.0</td>\n",
       "      <td>9.0</td>\n",
       "      <td>0.0</td>\n",
       "      <td>0.0</td>\n",
       "      <td>15.0</td>\n",
       "      <td>9.0</td>\n",
       "      <td>1</td>\n",
       "    </tr>\n",
       "    <tr>\n",
       "      <th>599454</th>\n",
       "      <td>1878648</td>\n",
       "      <td>2008</td>\n",
       "      <td>4</td>\n",
       "      <td>29</td>\n",
       "      <td>2</td>\n",
       "      <td>1611.0</td>\n",
       "      <td>1600</td>\n",
       "      <td>1711.0</td>\n",
       "      <td>1700</td>\n",
       "      <td>WN</td>\n",
       "      <td>884</td>\n",
       "      <td>N241WN</td>\n",
       "      <td>60.0</td>\n",
       "      <td>60.0</td>\n",
       "      <td>41.0</td>\n",
       "      <td>11.0</td>\n",
       "      <td>11.0</td>\n",
       "      <td>ONT</td>\n",
       "      <td>LAS</td>\n",
       "      <td>197</td>\n",
       "      <td>3.0</td>\n",
       "      <td>16.0</td>\n",
       "      <td>0</td>\n",
       "      <td>N</td>\n",
       "      <td>0</td>\n",
       "      <td>NaN</td>\n",
       "      <td>NaN</td>\n",
       "      <td>NaN</td>\n",
       "      <td>NaN</td>\n",
       "      <td>NaN</td>\n",
       "      <td>NaN</td>\n",
       "      <td>NaN</td>\n",
       "      <td>1</td>\n",
       "    </tr>\n",
       "    <tr>\n",
       "      <th>743117</th>\n",
       "      <td>2434787</td>\n",
       "      <td>2008</td>\n",
       "      <td>5</td>\n",
       "      <td>16</td>\n",
       "      <td>5</td>\n",
       "      <td>1551.0</td>\n",
       "      <td>1535</td>\n",
       "      <td>1803.0</td>\n",
       "      <td>1740</td>\n",
       "      <td>WN</td>\n",
       "      <td>1564</td>\n",
       "      <td>N718SW</td>\n",
       "      <td>132.0</td>\n",
       "      <td>125.0</td>\n",
       "      <td>121.0</td>\n",
       "      <td>23.0</td>\n",
       "      <td>16.0</td>\n",
       "      <td>STL</td>\n",
       "      <td>HOU</td>\n",
       "      <td>687</td>\n",
       "      <td>3.0</td>\n",
       "      <td>8.0</td>\n",
       "      <td>0</td>\n",
       "      <td>N</td>\n",
       "      <td>0</td>\n",
       "      <td>0.0</td>\n",
       "      <td>0.0</td>\n",
       "      <td>7.0</td>\n",
       "      <td>0.0</td>\n",
       "      <td>16.0</td>\n",
       "      <td>23.0</td>\n",
       "      <td>7.0</td>\n",
       "      <td>1</td>\n",
       "    </tr>\n",
       "    <tr>\n",
       "      <th>581400</th>\n",
       "      <td>1812607</td>\n",
       "      <td>2008</td>\n",
       "      <td>4</td>\n",
       "      <td>9</td>\n",
       "      <td>3</td>\n",
       "      <td>1754.0</td>\n",
       "      <td>1725</td>\n",
       "      <td>1834.0</td>\n",
       "      <td>1820</td>\n",
       "      <td>WN</td>\n",
       "      <td>2284</td>\n",
       "      <td>N686SW</td>\n",
       "      <td>100.0</td>\n",
       "      <td>115.0</td>\n",
       "      <td>86.0</td>\n",
       "      <td>14.0</td>\n",
       "      <td>29.0</td>\n",
       "      <td>SLC</td>\n",
       "      <td>LAX</td>\n",
       "      <td>590</td>\n",
       "      <td>6.0</td>\n",
       "      <td>8.0</td>\n",
       "      <td>0</td>\n",
       "      <td>N</td>\n",
       "      <td>0</td>\n",
       "      <td>NaN</td>\n",
       "      <td>NaN</td>\n",
       "      <td>NaN</td>\n",
       "      <td>NaN</td>\n",
       "      <td>NaN</td>\n",
       "      <td>NaN</td>\n",
       "      <td>NaN</td>\n",
       "      <td>1</td>\n",
       "    </tr>\n",
       "  </tbody>\n",
       "</table>\n",
       "</div>"
      ],
      "text/plain": [
       "         Unnamed: 0  Year Month DayofMonth DayOfWeek  DepTime  CRSDepTime  \\\n",
       "1098428     3654724  2008     7         18         5   1511.0        1505   \n",
       "112686       361246  2008     1         11         5   1736.0        1730   \n",
       "599454      1878648  2008     4         29         2   1611.0        1600   \n",
       "743117      2434787  2008     5         16         5   1551.0        1535   \n",
       "581400      1812607  2008     4          9         3   1754.0        1725   \n",
       "\n",
       "         ArrTime  CRSArrTime UniqueCarrier FlightNum TailNum  \\\n",
       "1098428   1740.0        1740            WN      1418  N452WN   \n",
       "112686    1913.0        1858            FL       327  N955AT   \n",
       "599454    1711.0        1700            WN       884  N241WN   \n",
       "743117    1803.0        1740            WN      1564  N718SW   \n",
       "581400    1834.0        1820            WN      2284  N686SW   \n",
       "\n",
       "         ActualElapsedTime  CRSElapsedTime  AirTime  ArrDelay  DepDelay  \\\n",
       "1098428              269.0           275.0    252.0       0.0       6.0   \n",
       "112686                97.0            88.0     69.0      15.0       6.0   \n",
       "599454                60.0            60.0     41.0      11.0      11.0   \n",
       "743117               132.0           125.0    121.0      23.0      16.0   \n",
       "581400               100.0           115.0     86.0      14.0      29.0   \n",
       "\n",
       "        Origin Dest  Distance  TaxiIn  TaxiOut Cancelled CancellationCode  \\\n",
       "1098428    BNA  OAK      1959     5.0     12.0         0                N   \n",
       "112686     BOS  BWI       370     9.0     19.0         0                N   \n",
       "599454     ONT  LAS       197     3.0     16.0         0                N   \n",
       "743117     STL  HOU       687     3.0      8.0         0                N   \n",
       "581400     SLC  LAX       590     6.0      8.0         0                N   \n",
       "\n",
       "        Diverted  CarrierDelay  WeatherDelay  NASDelay  SecurityDelay  \\\n",
       "1098428        0           NaN           NaN       NaN            NaN   \n",
       "112686         0           6.0           0.0       9.0            0.0   \n",
       "599454         0           NaN           NaN       NaN            NaN   \n",
       "743117         0           0.0           0.0       7.0            0.0   \n",
       "581400         0           NaN           NaN       NaN            NaN   \n",
       "\n",
       "         LateAircraftDelay  SumDelay  Diff_SumDelay_DepDelay Delayed  \n",
       "1098428                NaN       NaN                     NaN       0  \n",
       "112686                 0.0      15.0                     9.0       1  \n",
       "599454                 NaN       NaN                     NaN       1  \n",
       "743117                16.0      23.0                     7.0       1  \n",
       "581400                 NaN       NaN                     NaN       1  "
      ]
     },
     "execution_count": 26,
     "metadata": {},
     "output_type": "execute_result"
    }
   ],
   "source": [
    "df_load =pd.read_pickle('flights-processed-sampled.pkl.bz2',compression='bz2')\n",
    "df_load.head()"
   ]
  },
  {
   "cell_type": "code",
   "execution_count": 27,
   "id": "d216109d",
   "metadata": {
    "scrolled": true
   },
   "outputs": [
    {
     "data": {
      "text/plain": [
       "(96419, 33)"
      ]
     },
     "execution_count": 27,
     "metadata": {},
     "output_type": "execute_result"
    }
   ],
   "source": [
    "df_load.shape"
   ]
  },
  {
   "cell_type": "markdown",
   "id": "d5e532de",
   "metadata": {},
   "source": [
    "Because our target class is imbalanced, we need to use a sampling technique that will balance the classes for classification. I will use SMOTE, and create an X matrix that only includes relevant features I would like to use for training the model.\n",
    "\n",
    "- https://machinelearningmastery.com/smote-oversampling-for-imbalanced-classification/\n",
    "- https://imbalanced-learn.org/stable/references/generated/imblearn.over_sampling.SMOTE.html\n",
    "\n",
    "\n",
    "Default parameters for SMOTE:\n",
    "\n",
    "class imblearn.over_sampling.SMOTE(*, sampling_strategy='auto', random_state=None, k_neighbors=5, n_jobs=None)\n",
    "\n",
    "Because we have categorical data, we must use the algorithm for SMOTENC:\n",
    "- https://imbalanced-learn.org/stable/references/generated/imblearn.over_sampling.SMOTENC.html\n",
    "\n",
    "Default paramters for SMOTENC:\n",
    "\n",
    "class imblearn.over_sampling.SMOTENC(categorical_features, *, sampling_strategy='auto', random_state=None, k_neighbors=5, n_jobs=None)"
   ]
  },
  {
   "cell_type": "code",
   "execution_count": 28,
   "id": "19213e08",
   "metadata": {},
   "outputs": [],
   "source": [
    "y = df_load.Delayed\n",
    "y = y.astype('int')"
   ]
  },
  {
   "cell_type": "code",
   "execution_count": 29,
   "id": "9b8c1c47",
   "metadata": {},
   "outputs": [],
   "source": [
    "# drop columns not relevant for training the model\n",
    "X = df_load.drop(['Delayed','Unnamed: 0','Year','DayofMonth','FlightNum','TailNum',\n",
    "                  'CancellationCode'], axis=1)"
   ]
  },
  {
   "cell_type": "markdown",
   "id": "07adc2e6",
   "metadata": {},
   "source": [
    "The SMOTE algorithm does not work when there are NA's present, so I will drop the features which have NA's present. In the real world, a different treatment of NA's is probably more appropriate, but for the sake of simplifying the assignment and learning the methods, I will drop them."
   ]
  },
  {
   "cell_type": "code",
   "execution_count": 30,
   "id": "9d5120c3",
   "metadata": {},
   "outputs": [],
   "source": [
    "# drop columns with NAs\n",
    "X.drop(['CarrierDelay', 'WeatherDelay','NASDelay','SecurityDelay','LateAircraftDelay'\n",
    "        ,'SumDelay','Diff_SumDelay_DepDelay'], axis=1, inplace=True)"
   ]
  },
  {
   "cell_type": "code",
   "execution_count": 31,
   "id": "bdc72da7",
   "metadata": {},
   "outputs": [
    {
     "data": {
      "text/html": [
       "<div>\n",
       "<style scoped>\n",
       "    .dataframe tbody tr th:only-of-type {\n",
       "        vertical-align: middle;\n",
       "    }\n",
       "\n",
       "    .dataframe tbody tr th {\n",
       "        vertical-align: top;\n",
       "    }\n",
       "\n",
       "    .dataframe thead th {\n",
       "        text-align: right;\n",
       "    }\n",
       "</style>\n",
       "<table border=\"1\" class=\"dataframe\">\n",
       "  <thead>\n",
       "    <tr style=\"text-align: right;\">\n",
       "      <th></th>\n",
       "      <th>Month</th>\n",
       "      <th>DayOfWeek</th>\n",
       "      <th>DepTime</th>\n",
       "      <th>CRSDepTime</th>\n",
       "      <th>ArrTime</th>\n",
       "      <th>CRSArrTime</th>\n",
       "      <th>UniqueCarrier</th>\n",
       "      <th>ActualElapsedTime</th>\n",
       "      <th>CRSElapsedTime</th>\n",
       "      <th>AirTime</th>\n",
       "      <th>ArrDelay</th>\n",
       "      <th>DepDelay</th>\n",
       "      <th>Origin</th>\n",
       "      <th>Dest</th>\n",
       "      <th>Distance</th>\n",
       "      <th>TaxiIn</th>\n",
       "      <th>TaxiOut</th>\n",
       "      <th>Cancelled</th>\n",
       "      <th>Diverted</th>\n",
       "    </tr>\n",
       "  </thead>\n",
       "  <tbody>\n",
       "    <tr>\n",
       "      <th>1098428</th>\n",
       "      <td>7</td>\n",
       "      <td>5</td>\n",
       "      <td>1511.0</td>\n",
       "      <td>1505</td>\n",
       "      <td>1740.0</td>\n",
       "      <td>1740</td>\n",
       "      <td>WN</td>\n",
       "      <td>269.0</td>\n",
       "      <td>275.0</td>\n",
       "      <td>252.0</td>\n",
       "      <td>0.0</td>\n",
       "      <td>6.0</td>\n",
       "      <td>BNA</td>\n",
       "      <td>OAK</td>\n",
       "      <td>1959</td>\n",
       "      <td>5.0</td>\n",
       "      <td>12.0</td>\n",
       "      <td>0</td>\n",
       "      <td>0</td>\n",
       "    </tr>\n",
       "    <tr>\n",
       "      <th>112686</th>\n",
       "      <td>1</td>\n",
       "      <td>5</td>\n",
       "      <td>1736.0</td>\n",
       "      <td>1730</td>\n",
       "      <td>1913.0</td>\n",
       "      <td>1858</td>\n",
       "      <td>FL</td>\n",
       "      <td>97.0</td>\n",
       "      <td>88.0</td>\n",
       "      <td>69.0</td>\n",
       "      <td>15.0</td>\n",
       "      <td>6.0</td>\n",
       "      <td>BOS</td>\n",
       "      <td>BWI</td>\n",
       "      <td>370</td>\n",
       "      <td>9.0</td>\n",
       "      <td>19.0</td>\n",
       "      <td>0</td>\n",
       "      <td>0</td>\n",
       "    </tr>\n",
       "    <tr>\n",
       "      <th>599454</th>\n",
       "      <td>4</td>\n",
       "      <td>2</td>\n",
       "      <td>1611.0</td>\n",
       "      <td>1600</td>\n",
       "      <td>1711.0</td>\n",
       "      <td>1700</td>\n",
       "      <td>WN</td>\n",
       "      <td>60.0</td>\n",
       "      <td>60.0</td>\n",
       "      <td>41.0</td>\n",
       "      <td>11.0</td>\n",
       "      <td>11.0</td>\n",
       "      <td>ONT</td>\n",
       "      <td>LAS</td>\n",
       "      <td>197</td>\n",
       "      <td>3.0</td>\n",
       "      <td>16.0</td>\n",
       "      <td>0</td>\n",
       "      <td>0</td>\n",
       "    </tr>\n",
       "    <tr>\n",
       "      <th>743117</th>\n",
       "      <td>5</td>\n",
       "      <td>5</td>\n",
       "      <td>1551.0</td>\n",
       "      <td>1535</td>\n",
       "      <td>1803.0</td>\n",
       "      <td>1740</td>\n",
       "      <td>WN</td>\n",
       "      <td>132.0</td>\n",
       "      <td>125.0</td>\n",
       "      <td>121.0</td>\n",
       "      <td>23.0</td>\n",
       "      <td>16.0</td>\n",
       "      <td>STL</td>\n",
       "      <td>HOU</td>\n",
       "      <td>687</td>\n",
       "      <td>3.0</td>\n",
       "      <td>8.0</td>\n",
       "      <td>0</td>\n",
       "      <td>0</td>\n",
       "    </tr>\n",
       "    <tr>\n",
       "      <th>581400</th>\n",
       "      <td>4</td>\n",
       "      <td>3</td>\n",
       "      <td>1754.0</td>\n",
       "      <td>1725</td>\n",
       "      <td>1834.0</td>\n",
       "      <td>1820</td>\n",
       "      <td>WN</td>\n",
       "      <td>100.0</td>\n",
       "      <td>115.0</td>\n",
       "      <td>86.0</td>\n",
       "      <td>14.0</td>\n",
       "      <td>29.0</td>\n",
       "      <td>SLC</td>\n",
       "      <td>LAX</td>\n",
       "      <td>590</td>\n",
       "      <td>6.0</td>\n",
       "      <td>8.0</td>\n",
       "      <td>0</td>\n",
       "      <td>0</td>\n",
       "    </tr>\n",
       "  </tbody>\n",
       "</table>\n",
       "</div>"
      ],
      "text/plain": [
       "        Month DayOfWeek  DepTime  CRSDepTime  ArrTime  CRSArrTime  \\\n",
       "1098428     7         5   1511.0        1505   1740.0        1740   \n",
       "112686      1         5   1736.0        1730   1913.0        1858   \n",
       "599454      4         2   1611.0        1600   1711.0        1700   \n",
       "743117      5         5   1551.0        1535   1803.0        1740   \n",
       "581400      4         3   1754.0        1725   1834.0        1820   \n",
       "\n",
       "        UniqueCarrier  ActualElapsedTime  CRSElapsedTime  AirTime  ArrDelay  \\\n",
       "1098428            WN              269.0           275.0    252.0       0.0   \n",
       "112686             FL               97.0            88.0     69.0      15.0   \n",
       "599454             WN               60.0            60.0     41.0      11.0   \n",
       "743117             WN              132.0           125.0    121.0      23.0   \n",
       "581400             WN              100.0           115.0     86.0      14.0   \n",
       "\n",
       "         DepDelay Origin Dest  Distance  TaxiIn  TaxiOut Cancelled Diverted  \n",
       "1098428       6.0    BNA  OAK      1959     5.0     12.0         0        0  \n",
       "112686        6.0    BOS  BWI       370     9.0     19.0         0        0  \n",
       "599454       11.0    ONT  LAS       197     3.0     16.0         0        0  \n",
       "743117       16.0    STL  HOU       687     3.0      8.0         0        0  \n",
       "581400       29.0    SLC  LAX       590     6.0      8.0         0        0  "
      ]
     },
     "execution_count": 31,
     "metadata": {},
     "output_type": "execute_result"
    }
   ],
   "source": [
    "X.head()"
   ]
  },
  {
   "cell_type": "code",
   "execution_count": 32,
   "id": "ac60ccbf",
   "metadata": {
    "scrolled": true
   },
   "outputs": [
    {
     "name": "stdout",
     "output_type": "stream",
     "text": [
      "<class 'pandas.core.frame.DataFrame'>\n",
      "Int64Index: 96419 entries, 1098428 to 1545169\n",
      "Data columns (total 19 columns):\n",
      " #   Column             Non-Null Count  Dtype  \n",
      "---  ------             --------------  -----  \n",
      " 0   Month              96419 non-null  object \n",
      " 1   DayOfWeek          96419 non-null  object \n",
      " 2   DepTime            96419 non-null  float64\n",
      " 3   CRSDepTime         96419 non-null  int64  \n",
      " 4   ArrTime            96419 non-null  float64\n",
      " 5   CRSArrTime         96419 non-null  int64  \n",
      " 6   UniqueCarrier      96419 non-null  object \n",
      " 7   ActualElapsedTime  96419 non-null  float64\n",
      " 8   CRSElapsedTime     96419 non-null  float64\n",
      " 9   AirTime            96419 non-null  float64\n",
      " 10  ArrDelay           96419 non-null  float64\n",
      " 11  DepDelay           96419 non-null  float64\n",
      " 12  Origin             96419 non-null  object \n",
      " 13  Dest               96419 non-null  object \n",
      " 14  Distance           96419 non-null  int64  \n",
      " 15  TaxiIn             96419 non-null  float64\n",
      " 16  TaxiOut            96419 non-null  float64\n",
      " 17  Cancelled          96419 non-null  object \n",
      " 18  Diverted           96419 non-null  object \n",
      "dtypes: float64(9), int64(3), object(7)\n",
      "memory usage: 14.7+ MB\n"
     ]
    }
   ],
   "source": [
    "X.info()"
   ]
  },
  {
   "cell_type": "code",
   "execution_count": 33,
   "id": "915e433e",
   "metadata": {
    "scrolled": true
   },
   "outputs": [],
   "source": [
    "# transform the dataset\n",
    "oversample = SMOTENC(categorical_features=[0,1,6,12,13,17,18], random_state=324)\n",
    "X, y = oversample.fit_resample(X, y)"
   ]
  },
  {
   "cell_type": "code",
   "execution_count": 34,
   "id": "44ba5339",
   "metadata": {
    "scrolled": true
   },
   "outputs": [
    {
     "data": {
      "text/plain": [
       "(172248, 19)"
      ]
     },
     "execution_count": 34,
     "metadata": {},
     "output_type": "execute_result"
    }
   ],
   "source": [
    "X.shape"
   ]
  },
  {
   "cell_type": "code",
   "execution_count": 35,
   "id": "9151fee2",
   "metadata": {
    "scrolled": true
   },
   "outputs": [
    {
     "data": {
      "text/plain": [
       "(172248,)"
      ]
     },
     "execution_count": 35,
     "metadata": {},
     "output_type": "execute_result"
    }
   ],
   "source": [
    "y.shape"
   ]
  },
  {
   "cell_type": "markdown",
   "id": "eab6555f",
   "metadata": {},
   "source": [
    "After using the SMOTE algorithm, our dataframe now has an equal amount of delayed and on-time flights."
   ]
  },
  {
   "cell_type": "code",
   "execution_count": 36,
   "id": "b6515ad3",
   "metadata": {
    "scrolled": true
   },
   "outputs": [
    {
     "data": {
      "text/plain": [
       "1    0.5\n",
       "0    0.5\n",
       "Name: Delayed, dtype: float64"
      ]
     },
     "execution_count": 36,
     "metadata": {},
     "output_type": "execute_result"
    }
   ],
   "source": [
    "y.value_counts(normalize = True)"
   ]
  },
  {
   "cell_type": "code",
   "execution_count": 37,
   "id": "95ed8475",
   "metadata": {},
   "outputs": [],
   "source": [
    "smoted = pd.concat([X,y], axis=1)"
   ]
  },
  {
   "cell_type": "code",
   "execution_count": 38,
   "id": "1315f991",
   "metadata": {},
   "outputs": [
    {
     "data": {
      "text/html": [
       "<div>\n",
       "<style scoped>\n",
       "    .dataframe tbody tr th:only-of-type {\n",
       "        vertical-align: middle;\n",
       "    }\n",
       "\n",
       "    .dataframe tbody tr th {\n",
       "        vertical-align: top;\n",
       "    }\n",
       "\n",
       "    .dataframe thead th {\n",
       "        text-align: right;\n",
       "    }\n",
       "</style>\n",
       "<table border=\"1\" class=\"dataframe\">\n",
       "  <thead>\n",
       "    <tr style=\"text-align: right;\">\n",
       "      <th></th>\n",
       "      <th>Month</th>\n",
       "      <th>DayOfWeek</th>\n",
       "      <th>DepTime</th>\n",
       "      <th>CRSDepTime</th>\n",
       "      <th>ArrTime</th>\n",
       "      <th>CRSArrTime</th>\n",
       "      <th>UniqueCarrier</th>\n",
       "      <th>ActualElapsedTime</th>\n",
       "      <th>CRSElapsedTime</th>\n",
       "      <th>AirTime</th>\n",
       "      <th>ArrDelay</th>\n",
       "      <th>DepDelay</th>\n",
       "      <th>Origin</th>\n",
       "      <th>Dest</th>\n",
       "      <th>Distance</th>\n",
       "      <th>TaxiIn</th>\n",
       "      <th>TaxiOut</th>\n",
       "      <th>Cancelled</th>\n",
       "      <th>Diverted</th>\n",
       "      <th>Delayed</th>\n",
       "    </tr>\n",
       "  </thead>\n",
       "  <tbody>\n",
       "    <tr>\n",
       "      <th>0</th>\n",
       "      <td>7</td>\n",
       "      <td>5</td>\n",
       "      <td>1511.0</td>\n",
       "      <td>1505</td>\n",
       "      <td>1740.0</td>\n",
       "      <td>1740</td>\n",
       "      <td>WN</td>\n",
       "      <td>269.0</td>\n",
       "      <td>275.0</td>\n",
       "      <td>252.0</td>\n",
       "      <td>0.0</td>\n",
       "      <td>6.0</td>\n",
       "      <td>BNA</td>\n",
       "      <td>OAK</td>\n",
       "      <td>1959</td>\n",
       "      <td>5.0</td>\n",
       "      <td>12.0</td>\n",
       "      <td>0</td>\n",
       "      <td>0</td>\n",
       "      <td>0</td>\n",
       "    </tr>\n",
       "    <tr>\n",
       "      <th>1</th>\n",
       "      <td>1</td>\n",
       "      <td>5</td>\n",
       "      <td>1736.0</td>\n",
       "      <td>1730</td>\n",
       "      <td>1913.0</td>\n",
       "      <td>1858</td>\n",
       "      <td>FL</td>\n",
       "      <td>97.0</td>\n",
       "      <td>88.0</td>\n",
       "      <td>69.0</td>\n",
       "      <td>15.0</td>\n",
       "      <td>6.0</td>\n",
       "      <td>BOS</td>\n",
       "      <td>BWI</td>\n",
       "      <td>370</td>\n",
       "      <td>9.0</td>\n",
       "      <td>19.0</td>\n",
       "      <td>0</td>\n",
       "      <td>0</td>\n",
       "      <td>1</td>\n",
       "    </tr>\n",
       "    <tr>\n",
       "      <th>2</th>\n",
       "      <td>4</td>\n",
       "      <td>2</td>\n",
       "      <td>1611.0</td>\n",
       "      <td>1600</td>\n",
       "      <td>1711.0</td>\n",
       "      <td>1700</td>\n",
       "      <td>WN</td>\n",
       "      <td>60.0</td>\n",
       "      <td>60.0</td>\n",
       "      <td>41.0</td>\n",
       "      <td>11.0</td>\n",
       "      <td>11.0</td>\n",
       "      <td>ONT</td>\n",
       "      <td>LAS</td>\n",
       "      <td>197</td>\n",
       "      <td>3.0</td>\n",
       "      <td>16.0</td>\n",
       "      <td>0</td>\n",
       "      <td>0</td>\n",
       "      <td>1</td>\n",
       "    </tr>\n",
       "    <tr>\n",
       "      <th>3</th>\n",
       "      <td>5</td>\n",
       "      <td>5</td>\n",
       "      <td>1551.0</td>\n",
       "      <td>1535</td>\n",
       "      <td>1803.0</td>\n",
       "      <td>1740</td>\n",
       "      <td>WN</td>\n",
       "      <td>132.0</td>\n",
       "      <td>125.0</td>\n",
       "      <td>121.0</td>\n",
       "      <td>23.0</td>\n",
       "      <td>16.0</td>\n",
       "      <td>STL</td>\n",
       "      <td>HOU</td>\n",
       "      <td>687</td>\n",
       "      <td>3.0</td>\n",
       "      <td>8.0</td>\n",
       "      <td>0</td>\n",
       "      <td>0</td>\n",
       "      <td>1</td>\n",
       "    </tr>\n",
       "    <tr>\n",
       "      <th>4</th>\n",
       "      <td>4</td>\n",
       "      <td>3</td>\n",
       "      <td>1754.0</td>\n",
       "      <td>1725</td>\n",
       "      <td>1834.0</td>\n",
       "      <td>1820</td>\n",
       "      <td>WN</td>\n",
       "      <td>100.0</td>\n",
       "      <td>115.0</td>\n",
       "      <td>86.0</td>\n",
       "      <td>14.0</td>\n",
       "      <td>29.0</td>\n",
       "      <td>SLC</td>\n",
       "      <td>LAX</td>\n",
       "      <td>590</td>\n",
       "      <td>6.0</td>\n",
       "      <td>8.0</td>\n",
       "      <td>0</td>\n",
       "      <td>0</td>\n",
       "      <td>1</td>\n",
       "    </tr>\n",
       "  </tbody>\n",
       "</table>\n",
       "</div>"
      ],
      "text/plain": [
       "  Month DayOfWeek  DepTime  CRSDepTime  ArrTime  CRSArrTime UniqueCarrier  \\\n",
       "0     7         5   1511.0        1505   1740.0        1740            WN   \n",
       "1     1         5   1736.0        1730   1913.0        1858            FL   \n",
       "2     4         2   1611.0        1600   1711.0        1700            WN   \n",
       "3     5         5   1551.0        1535   1803.0        1740            WN   \n",
       "4     4         3   1754.0        1725   1834.0        1820            WN   \n",
       "\n",
       "   ActualElapsedTime  CRSElapsedTime  AirTime  ArrDelay  DepDelay Origin Dest  \\\n",
       "0              269.0           275.0    252.0       0.0       6.0    BNA  OAK   \n",
       "1               97.0            88.0     69.0      15.0       6.0    BOS  BWI   \n",
       "2               60.0            60.0     41.0      11.0      11.0    ONT  LAS   \n",
       "3              132.0           125.0    121.0      23.0      16.0    STL  HOU   \n",
       "4              100.0           115.0     86.0      14.0      29.0    SLC  LAX   \n",
       "\n",
       "   Distance  TaxiIn  TaxiOut Cancelled Diverted  Delayed  \n",
       "0      1959     5.0     12.0         0        0        0  \n",
       "1       370     9.0     19.0         0        0        1  \n",
       "2       197     3.0     16.0         0        0        1  \n",
       "3       687     3.0      8.0         0        0        1  \n",
       "4       590     6.0      8.0         0        0        1  "
      ]
     },
     "execution_count": 38,
     "metadata": {},
     "output_type": "execute_result"
    }
   ],
   "source": [
    "smoted.head()"
   ]
  },
  {
   "cell_type": "code",
   "execution_count": 39,
   "id": "8600aa60",
   "metadata": {
    "scrolled": true
   },
   "outputs": [
    {
     "data": {
      "text/plain": [
       "(172248, 20)"
      ]
     },
     "execution_count": 39,
     "metadata": {},
     "output_type": "execute_result"
    }
   ],
   "source": [
    "smoted.shape"
   ]
  },
  {
   "cell_type": "markdown",
   "id": "2578c99d",
   "metadata": {},
   "source": [
    "I will save the data file for use in the classification models, and ensure that it is written and can be loaded correctly."
   ]
  },
  {
   "cell_type": "code",
   "execution_count": 40,
   "id": "af12acdb",
   "metadata": {},
   "outputs": [],
   "source": [
    "smoted.to_pickle('flights-sampled-smoted.pkl.bz2',compression='bz2')"
   ]
  },
  {
   "cell_type": "code",
   "execution_count": 41,
   "id": "467cc6d4",
   "metadata": {},
   "outputs": [
    {
     "data": {
      "text/html": [
       "<div>\n",
       "<style scoped>\n",
       "    .dataframe tbody tr th:only-of-type {\n",
       "        vertical-align: middle;\n",
       "    }\n",
       "\n",
       "    .dataframe tbody tr th {\n",
       "        vertical-align: top;\n",
       "    }\n",
       "\n",
       "    .dataframe thead th {\n",
       "        text-align: right;\n",
       "    }\n",
       "</style>\n",
       "<table border=\"1\" class=\"dataframe\">\n",
       "  <thead>\n",
       "    <tr style=\"text-align: right;\">\n",
       "      <th></th>\n",
       "      <th>Month</th>\n",
       "      <th>DayOfWeek</th>\n",
       "      <th>DepTime</th>\n",
       "      <th>CRSDepTime</th>\n",
       "      <th>ArrTime</th>\n",
       "      <th>CRSArrTime</th>\n",
       "      <th>UniqueCarrier</th>\n",
       "      <th>ActualElapsedTime</th>\n",
       "      <th>CRSElapsedTime</th>\n",
       "      <th>AirTime</th>\n",
       "      <th>ArrDelay</th>\n",
       "      <th>DepDelay</th>\n",
       "      <th>Origin</th>\n",
       "      <th>Dest</th>\n",
       "      <th>Distance</th>\n",
       "      <th>TaxiIn</th>\n",
       "      <th>TaxiOut</th>\n",
       "      <th>Cancelled</th>\n",
       "      <th>Diverted</th>\n",
       "      <th>Delayed</th>\n",
       "    </tr>\n",
       "  </thead>\n",
       "  <tbody>\n",
       "    <tr>\n",
       "      <th>0</th>\n",
       "      <td>7</td>\n",
       "      <td>5</td>\n",
       "      <td>1511.0</td>\n",
       "      <td>1505</td>\n",
       "      <td>1740.0</td>\n",
       "      <td>1740</td>\n",
       "      <td>WN</td>\n",
       "      <td>269.0</td>\n",
       "      <td>275.0</td>\n",
       "      <td>252.0</td>\n",
       "      <td>0.0</td>\n",
       "      <td>6.0</td>\n",
       "      <td>BNA</td>\n",
       "      <td>OAK</td>\n",
       "      <td>1959</td>\n",
       "      <td>5.0</td>\n",
       "      <td>12.0</td>\n",
       "      <td>0</td>\n",
       "      <td>0</td>\n",
       "      <td>0</td>\n",
       "    </tr>\n",
       "    <tr>\n",
       "      <th>1</th>\n",
       "      <td>1</td>\n",
       "      <td>5</td>\n",
       "      <td>1736.0</td>\n",
       "      <td>1730</td>\n",
       "      <td>1913.0</td>\n",
       "      <td>1858</td>\n",
       "      <td>FL</td>\n",
       "      <td>97.0</td>\n",
       "      <td>88.0</td>\n",
       "      <td>69.0</td>\n",
       "      <td>15.0</td>\n",
       "      <td>6.0</td>\n",
       "      <td>BOS</td>\n",
       "      <td>BWI</td>\n",
       "      <td>370</td>\n",
       "      <td>9.0</td>\n",
       "      <td>19.0</td>\n",
       "      <td>0</td>\n",
       "      <td>0</td>\n",
       "      <td>1</td>\n",
       "    </tr>\n",
       "    <tr>\n",
       "      <th>2</th>\n",
       "      <td>4</td>\n",
       "      <td>2</td>\n",
       "      <td>1611.0</td>\n",
       "      <td>1600</td>\n",
       "      <td>1711.0</td>\n",
       "      <td>1700</td>\n",
       "      <td>WN</td>\n",
       "      <td>60.0</td>\n",
       "      <td>60.0</td>\n",
       "      <td>41.0</td>\n",
       "      <td>11.0</td>\n",
       "      <td>11.0</td>\n",
       "      <td>ONT</td>\n",
       "      <td>LAS</td>\n",
       "      <td>197</td>\n",
       "      <td>3.0</td>\n",
       "      <td>16.0</td>\n",
       "      <td>0</td>\n",
       "      <td>0</td>\n",
       "      <td>1</td>\n",
       "    </tr>\n",
       "    <tr>\n",
       "      <th>3</th>\n",
       "      <td>5</td>\n",
       "      <td>5</td>\n",
       "      <td>1551.0</td>\n",
       "      <td>1535</td>\n",
       "      <td>1803.0</td>\n",
       "      <td>1740</td>\n",
       "      <td>WN</td>\n",
       "      <td>132.0</td>\n",
       "      <td>125.0</td>\n",
       "      <td>121.0</td>\n",
       "      <td>23.0</td>\n",
       "      <td>16.0</td>\n",
       "      <td>STL</td>\n",
       "      <td>HOU</td>\n",
       "      <td>687</td>\n",
       "      <td>3.0</td>\n",
       "      <td>8.0</td>\n",
       "      <td>0</td>\n",
       "      <td>0</td>\n",
       "      <td>1</td>\n",
       "    </tr>\n",
       "    <tr>\n",
       "      <th>4</th>\n",
       "      <td>4</td>\n",
       "      <td>3</td>\n",
       "      <td>1754.0</td>\n",
       "      <td>1725</td>\n",
       "      <td>1834.0</td>\n",
       "      <td>1820</td>\n",
       "      <td>WN</td>\n",
       "      <td>100.0</td>\n",
       "      <td>115.0</td>\n",
       "      <td>86.0</td>\n",
       "      <td>14.0</td>\n",
       "      <td>29.0</td>\n",
       "      <td>SLC</td>\n",
       "      <td>LAX</td>\n",
       "      <td>590</td>\n",
       "      <td>6.0</td>\n",
       "      <td>8.0</td>\n",
       "      <td>0</td>\n",
       "      <td>0</td>\n",
       "      <td>1</td>\n",
       "    </tr>\n",
       "  </tbody>\n",
       "</table>\n",
       "</div>"
      ],
      "text/plain": [
       "  Month DayOfWeek  DepTime  CRSDepTime  ArrTime  CRSArrTime UniqueCarrier  \\\n",
       "0     7         5   1511.0        1505   1740.0        1740            WN   \n",
       "1     1         5   1736.0        1730   1913.0        1858            FL   \n",
       "2     4         2   1611.0        1600   1711.0        1700            WN   \n",
       "3     5         5   1551.0        1535   1803.0        1740            WN   \n",
       "4     4         3   1754.0        1725   1834.0        1820            WN   \n",
       "\n",
       "   ActualElapsedTime  CRSElapsedTime  AirTime  ArrDelay  DepDelay Origin Dest  \\\n",
       "0              269.0           275.0    252.0       0.0       6.0    BNA  OAK   \n",
       "1               97.0            88.0     69.0      15.0       6.0    BOS  BWI   \n",
       "2               60.0            60.0     41.0      11.0      11.0    ONT  LAS   \n",
       "3              132.0           125.0    121.0      23.0      16.0    STL  HOU   \n",
       "4              100.0           115.0     86.0      14.0      29.0    SLC  LAX   \n",
       "\n",
       "   Distance  TaxiIn  TaxiOut Cancelled Diverted  Delayed  \n",
       "0      1959     5.0     12.0         0        0        0  \n",
       "1       370     9.0     19.0         0        0        1  \n",
       "2       197     3.0     16.0         0        0        1  \n",
       "3       687     3.0      8.0         0        0        1  \n",
       "4       590     6.0      8.0         0        0        1  "
      ]
     },
     "execution_count": 41,
     "metadata": {},
     "output_type": "execute_result"
    }
   ],
   "source": [
    "df_load =pd.read_pickle('flights-sampled-smoted.pkl.bz2',compression='bz2')\n",
    "df_load.head()"
   ]
  },
  {
   "cell_type": "code",
   "execution_count": 42,
   "id": "89e80ad4",
   "metadata": {},
   "outputs": [
    {
     "data": {
      "text/plain": [
       "(172248, 20)"
      ]
     },
     "execution_count": 42,
     "metadata": {},
     "output_type": "execute_result"
    }
   ],
   "source": [
    "df_load.shape"
   ]
  }
 ],
 "metadata": {
  "kernelspec": {
   "display_name": "Python 3 (ipykernel)",
   "language": "python",
   "name": "python3"
  },
  "language_info": {
   "codemirror_mode": {
    "name": "ipython",
    "version": 3
   },
   "file_extension": ".py",
   "mimetype": "text/x-python",
   "name": "python",
   "nbconvert_exporter": "python",
   "pygments_lexer": "ipython3",
   "version": "3.8.8"
  },
  "nbTranslate": {
   "displayLangs": [
    "es",
    "en"
   ],
   "hotkey": "alt-t",
   "langInMainMenu": true,
   "sourceLang": "en",
   "targetLang": "es",
   "useGoogleTranslate": true
  },
  "varInspector": {
   "cols": {
    "lenName": 16,
    "lenType": 16,
    "lenVar": 40
   },
   "kernels_config": {
    "python": {
     "delete_cmd_postfix": "",
     "delete_cmd_prefix": "del ",
     "library": "var_list.py",
     "varRefreshCmd": "print(var_dic_list())"
    },
    "r": {
     "delete_cmd_postfix": ") ",
     "delete_cmd_prefix": "rm(",
     "library": "var_list.r",
     "varRefreshCmd": "cat(var_dic_list()) "
    }
   },
   "types_to_exclude": [
    "module",
    "function",
    "builtin_function_or_method",
    "instance",
    "_Feature"
   ],
   "window_display": false
  }
 },
 "nbformat": 4,
 "nbformat_minor": 5
}
