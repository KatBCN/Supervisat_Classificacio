{
  "cells": [
    {
      "cell_type": "markdown",
      "metadata": {
        "id": "view-in-github",
        "colab_type": "text"
      },
      "source": [
        "<a href=\"https://colab.research.google.com/github/KatBCN/Supervisat_Classificacio/blob/main/Sprint_11_PCA_Clustering.ipynb\" target=\"_parent\"><img src=\"https://colab.research.google.com/assets/colab-badge.svg\" alt=\"Open In Colab\"/></a>"
      ]
    },
    {
      "cell_type": "markdown",
      "metadata": {
        "id": "98b21b19"
      },
      "source": [
        "# <font color='#d50283'>IT Academy - Data Science Itinerary</font>\n",
        "## Sprint 11 Task 1 - Clustering\n",
        "### Assignment by: Kat Weissman\n",
        "\n",
        "#### General objective:\n",
        "\n",
        "- Become familiar with clustering algorithms.\n",
        "\n",
        "#### Python Learning Objectives:\n",
        "- K Means\n",
        "- Hierarchical clustering"
      ],
      "id": "98b21b19"
    },
    {
      "cell_type": "markdown",
      "metadata": {
        "id": "6ce01116"
      },
      "source": [
        "*Recommended learning resources:*\n",
        "- https://towardsdatascience.com/the-5-clustering-algorithms-data-scientists-need-to-know-a36d136ef68\n",
        "- https://realpython.com/k-means-clustering-python/\n",
        "- https://towardsdatascience.com/pca-using-python-scikit-learn-e653f8989e60\n",
        "- https://jakevdp.github.io/PythonDataScienceHandbook/05.09-principal-component-analysis.html\n",
        "- https://towardsdatascience.com/machine-learning-algorithms-part-12-hierarchical-agglomerative-clustering-example-in-python-1e18e0075019\n",
        "- https://www.analyticsvidhya.com/blog/2019/05/beginners-guide-hierarchical-clustering/\n"
      ],
      "id": "6ce01116"
    },
    {
      "cell_type": "code",
      "execution_count": null,
      "metadata": {
        "id": "932e69da"
      },
      "outputs": [],
      "source": [
        "#Import libraries\n",
        "import numpy as np\n",
        "import pandas as pd\n",
        "import matplotlib.pyplot as plt\n",
        "import matplotlib.cm as cm\n",
        "import seaborn as sns\n",
        "from sklearn.cluster import KMeans\n",
        "from sklearn.cluster import MiniBatchKMeans\n",
        "from sklearn.metrics import silhouette_samples, silhouette_score"
      ],
      "id": "932e69da"
    },
    {
      "cell_type": "markdown",
      "metadata": {
        "id": "a328a38d"
      },
      "source": [
        "### Level 1\n",
        "### Exercise 1 \n",
        "Group the different flights using the K-means algorithm."
      ],
      "id": "a328a38d"
    },
    {
      "cell_type": "code",
      "execution_count": null,
      "metadata": {
        "id": "6e0f87d6"
      },
      "outputs": [],
      "source": [
        "pd.set_option('display.max_columns', None)  #set display to show all columns"
      ],
      "id": "6e0f87d6"
    },
    {
      "cell_type": "markdown",
      "metadata": {
        "id": "fa438a01"
      },
      "source": [
        "I will load the data which I scaled then performed PCA in different notebooks.\n",
        "\n",
        "- https://github.com/KatBCN/NoSupervisat_Classificacio/blob/main/Sprint11-Clustering-Sample-PreProcessing%20.ipynb\n",
        "- https://github.com/KatBCN/NoSupervisat_Classificacio/blob/main/Sprint11-Clustering-PCA.ipynb\n",
        "\n",
        "Data link:\n",
        "- https://github.com/KatBCN/NoSupervisat_Classificacio/blob/main/flights-sampled-robustscale-PCA4.csv?raw=true\n"
      ],
      "id": "fa438a01"
    },
    {
      "cell_type": "code",
      "execution_count": null,
      "metadata": {
        "id": "276e8c30"
      },
      "outputs": [],
      "source": [
        "# load data\n",
        "data_link = 'https://github.com/KatBCN/NoSupervisat_Classificacio/blob/main/flights-sampled-robustscale-PCA4.csv?raw=true'\n",
        "df = pd.read_csv(data_link)"
      ],
      "id": "276e8c30"
    },
    {
      "cell_type": "markdown",
      "metadata": {
        "id": "0930e7af"
      },
      "source": [
        "#### Data Exploration"
      ],
      "id": "0930e7af"
    },
    {
      "cell_type": "code",
      "execution_count": null,
      "metadata": {
        "colab": {
          "base_uri": "https://localhost:8080/"
        },
        "id": "676b7b91",
        "outputId": "c671acc2-833d-4b1b-87f3-97fb7a174e5a"
      },
      "outputs": [
        {
          "data": {
            "text/plain": [
              "(96419, 4)"
            ]
          },
          "execution_count": 4,
          "metadata": {},
          "output_type": "execute_result"
        }
      ],
      "source": [
        "# Show number of rows and columns in dataframe\n",
        "df.shape"
      ],
      "id": "676b7b91"
    },
    {
      "cell_type": "code",
      "execution_count": null,
      "metadata": {
        "colab": {
          "base_uri": "https://localhost:8080/"
        },
        "id": "fe56a352",
        "outputId": "00a7b402-cc21-4282-fd14-ad6946de0a12",
        "scrolled": false
      },
      "outputs": [
        {
          "data": {
            "text/plain": [
              "PC_1    float64\n",
              "PC_2    float64\n",
              "PC_3    float64\n",
              "PC_4    float64\n",
              "dtype: object"
            ]
          },
          "execution_count": 5,
          "metadata": {},
          "output_type": "execute_result"
        }
      ],
      "source": [
        "# Show column names and dtypes\n",
        "df.dtypes"
      ],
      "id": "fe56a352"
    },
    {
      "cell_type": "code",
      "execution_count": null,
      "metadata": {
        "colab": {
          "base_uri": "https://localhost:8080/",
          "height": 206
        },
        "id": "da2379e4",
        "outputId": "62bf37a8-d055-4009-b93d-a34c1afdf76d",
        "scrolled": true
      },
      "outputs": [
        {
          "data": {
            "text/html": [
              "\n",
              "  <div id=\"df-d212a109-c8ea-40bd-a902-a81c4e29a9b2\">\n",
              "    <div class=\"colab-df-container\">\n",
              "      <div>\n",
              "<style scoped>\n",
              "    .dataframe tbody tr th:only-of-type {\n",
              "        vertical-align: middle;\n",
              "    }\n",
              "\n",
              "    .dataframe tbody tr th {\n",
              "        vertical-align: top;\n",
              "    }\n",
              "\n",
              "    .dataframe thead th {\n",
              "        text-align: right;\n",
              "    }\n",
              "</style>\n",
              "<table border=\"1\" class=\"dataframe\">\n",
              "  <thead>\n",
              "    <tr style=\"text-align: right;\">\n",
              "      <th></th>\n",
              "      <th>PC_1</th>\n",
              "      <th>PC_2</th>\n",
              "      <th>PC_3</th>\n",
              "      <th>PC_4</th>\n",
              "    </tr>\n",
              "  </thead>\n",
              "  <tbody>\n",
              "    <tr>\n",
              "      <th>0</th>\n",
              "      <td>-1.238091</td>\n",
              "      <td>2.850842</td>\n",
              "      <td>-0.921972</td>\n",
              "      <td>-1.012227</td>\n",
              "    </tr>\n",
              "    <tr>\n",
              "      <th>1</th>\n",
              "      <td>-0.922183</td>\n",
              "      <td>-0.549181</td>\n",
              "      <td>0.899407</td>\n",
              "      <td>0.613874</td>\n",
              "    </tr>\n",
              "    <tr>\n",
              "      <th>2</th>\n",
              "      <td>-1.294626</td>\n",
              "      <td>-1.472463</td>\n",
              "      <td>-0.382035</td>\n",
              "      <td>0.496146</td>\n",
              "    </tr>\n",
              "    <tr>\n",
              "      <th>3</th>\n",
              "      <td>-1.149435</td>\n",
              "      <td>-0.316652</td>\n",
              "      <td>-0.687722</td>\n",
              "      <td>-0.612451</td>\n",
              "    </tr>\n",
              "    <tr>\n",
              "      <th>4</th>\n",
              "      <td>-0.947126</td>\n",
              "      <td>-0.554357</td>\n",
              "      <td>0.095276</td>\n",
              "      <td>-0.588490</td>\n",
              "    </tr>\n",
              "  </tbody>\n",
              "</table>\n",
              "</div>\n",
              "      <button class=\"colab-df-convert\" onclick=\"convertToInteractive('df-d212a109-c8ea-40bd-a902-a81c4e29a9b2')\"\n",
              "              title=\"Convert this dataframe to an interactive table.\"\n",
              "              style=\"display:none;\">\n",
              "        \n",
              "  <svg xmlns=\"http://www.w3.org/2000/svg\" height=\"24px\"viewBox=\"0 0 24 24\"\n",
              "       width=\"24px\">\n",
              "    <path d=\"M0 0h24v24H0V0z\" fill=\"none\"/>\n",
              "    <path d=\"M18.56 5.44l.94 2.06.94-2.06 2.06-.94-2.06-.94-.94-2.06-.94 2.06-2.06.94zm-11 1L8.5 8.5l.94-2.06 2.06-.94-2.06-.94L8.5 2.5l-.94 2.06-2.06.94zm10 10l.94 2.06.94-2.06 2.06-.94-2.06-.94-.94-2.06-.94 2.06-2.06.94z\"/><path d=\"M17.41 7.96l-1.37-1.37c-.4-.4-.92-.59-1.43-.59-.52 0-1.04.2-1.43.59L10.3 9.45l-7.72 7.72c-.78.78-.78 2.05 0 2.83L4 21.41c.39.39.9.59 1.41.59.51 0 1.02-.2 1.41-.59l7.78-7.78 2.81-2.81c.8-.78.8-2.07 0-2.86zM5.41 20L4 18.59l7.72-7.72 1.47 1.35L5.41 20z\"/>\n",
              "  </svg>\n",
              "      </button>\n",
              "      \n",
              "  <style>\n",
              "    .colab-df-container {\n",
              "      display:flex;\n",
              "      flex-wrap:wrap;\n",
              "      gap: 12px;\n",
              "    }\n",
              "\n",
              "    .colab-df-convert {\n",
              "      background-color: #E8F0FE;\n",
              "      border: none;\n",
              "      border-radius: 50%;\n",
              "      cursor: pointer;\n",
              "      display: none;\n",
              "      fill: #1967D2;\n",
              "      height: 32px;\n",
              "      padding: 0 0 0 0;\n",
              "      width: 32px;\n",
              "    }\n",
              "\n",
              "    .colab-df-convert:hover {\n",
              "      background-color: #E2EBFA;\n",
              "      box-shadow: 0px 1px 2px rgba(60, 64, 67, 0.3), 0px 1px 3px 1px rgba(60, 64, 67, 0.15);\n",
              "      fill: #174EA6;\n",
              "    }\n",
              "\n",
              "    [theme=dark] .colab-df-convert {\n",
              "      background-color: #3B4455;\n",
              "      fill: #D2E3FC;\n",
              "    }\n",
              "\n",
              "    [theme=dark] .colab-df-convert:hover {\n",
              "      background-color: #434B5C;\n",
              "      box-shadow: 0px 1px 3px 1px rgba(0, 0, 0, 0.15);\n",
              "      filter: drop-shadow(0px 1px 2px rgba(0, 0, 0, 0.3));\n",
              "      fill: #FFFFFF;\n",
              "    }\n",
              "  </style>\n",
              "\n",
              "      <script>\n",
              "        const buttonEl =\n",
              "          document.querySelector('#df-d212a109-c8ea-40bd-a902-a81c4e29a9b2 button.colab-df-convert');\n",
              "        buttonEl.style.display =\n",
              "          google.colab.kernel.accessAllowed ? 'block' : 'none';\n",
              "\n",
              "        async function convertToInteractive(key) {\n",
              "          const element = document.querySelector('#df-d212a109-c8ea-40bd-a902-a81c4e29a9b2');\n",
              "          const dataTable =\n",
              "            await google.colab.kernel.invokeFunction('convertToInteractive',\n",
              "                                                     [key], {});\n",
              "          if (!dataTable) return;\n",
              "\n",
              "          const docLinkHtml = 'Like what you see? Visit the ' +\n",
              "            '<a target=\"_blank\" href=https://colab.research.google.com/notebooks/data_table.ipynb>data table notebook</a>'\n",
              "            + ' to learn more about interactive tables.';\n",
              "          element.innerHTML = '';\n",
              "          dataTable['output_type'] = 'display_data';\n",
              "          await google.colab.output.renderOutput(dataTable, element);\n",
              "          const docLink = document.createElement('div');\n",
              "          docLink.innerHTML = docLinkHtml;\n",
              "          element.appendChild(docLink);\n",
              "        }\n",
              "      </script>\n",
              "    </div>\n",
              "  </div>\n",
              "  "
            ],
            "text/plain": [
              "       PC_1      PC_2      PC_3      PC_4\n",
              "0 -1.238091  2.850842 -0.921972 -1.012227\n",
              "1 -0.922183 -0.549181  0.899407  0.613874\n",
              "2 -1.294626 -1.472463 -0.382035  0.496146\n",
              "3 -1.149435 -0.316652 -0.687722 -0.612451\n",
              "4 -0.947126 -0.554357  0.095276 -0.588490"
            ]
          },
          "execution_count": 6,
          "metadata": {},
          "output_type": "execute_result"
        }
      ],
      "source": [
        "# Display first 5 rows of dataframe\n",
        "df.head(5)"
      ],
      "id": "da2379e4"
    },
    {
      "cell_type": "code",
      "execution_count": null,
      "metadata": {
        "colab": {
          "base_uri": "https://localhost:8080/"
        },
        "id": "f9fb461c",
        "outputId": "a1644c8f-4ce9-4e63-97c5-0bc6c9cd72b5",
        "scrolled": false
      },
      "outputs": [
        {
          "data": {
            "text/plain": [
              "PC_1    0\n",
              "PC_2    0\n",
              "PC_3    0\n",
              "PC_4    0\n",
              "dtype: int64"
            ]
          },
          "execution_count": 7,
          "metadata": {},
          "output_type": "execute_result"
        }
      ],
      "source": [
        "# Check for NA values\n",
        "df.isna().sum()"
      ],
      "id": "f9fb461c"
    },
    {
      "cell_type": "markdown",
      "metadata": {
        "id": "7f5c583c"
      },
      "source": [
        "##### K Means Algorithm\n",
        "\n",
        "- https://scikit-learn.org/stable/modules/generated/sklearn.cluster.KMeans.html\n",
        "\n",
        "Default arguments:\n",
        "\n",
        "class sklearn.cluster.KMeans(n_clusters=8, *, init='k-means++', n_init=10, max_iter=300, tol=0.0001, verbose=0, random_state=None, copy_x=True, algorithm='auto')\n",
        "\n",
        "I do not know the ideal number of clusters, but will try with 3 clusters, and limit the maximum number of iterations to 10 for the sake of time."
      ],
      "id": "7f5c583c"
    },
    {
      "cell_type": "markdown",
      "metadata": {
        "id": "a73e86fc"
      },
      "source": [
        "##### K Means Mini Batch Algorithm for Large Datasets\n",
        "\n",
        "- https://scikit-learn.org/stable/modules/generated/sklearn.cluster.MiniBatchKMeans.html\n",
        "\n",
        "Default arguments:\n",
        "\n",
        "class sklearn.cluster.MiniBatchKMeans(n_clusters=8, *, init='k-means++', max_iter=100, batch_size=1024, verbose=0, compute_labels=True, random_state=None, tol=0.0, max_no_improvement=10, init_size=None, n_init=3, reassignment_ratio=0.01)"
      ],
      "id": "a73e86fc"
    },
    {
      "cell_type": "code",
      "execution_count": null,
      "metadata": {
        "id": "qtWP7boYD9sj"
      },
      "outputs": [],
      "source": [
        "X = df.iloc[:, [0,1,2,3]]"
      ],
      "id": "qtWP7boYD9sj"
    },
    {
      "cell_type": "markdown",
      "source": [
        "I begin by setting k=2. Because I had some trouble with the speed of the algorithm, I decided to use MiniBatchKMeans instead of the original KMeans."
      ],
      "metadata": {
        "id": "UMQrtPVVqrvQ"
      },
      "id": "UMQrtPVVqrvQ"
    },
    {
      "cell_type": "code",
      "execution_count": null,
      "metadata": {
        "id": "e424da9a",
        "scrolled": true
      },
      "outputs": [],
      "source": [
        "# define the model\n",
        "kmeans = MiniBatchKMeans(n_clusters=2,random_state=324)"
      ],
      "id": "e424da9a"
    },
    {
      "cell_type": "code",
      "execution_count": null,
      "metadata": {
        "colab": {
          "base_uri": "https://localhost:8080/"
        },
        "id": "c60c0db4",
        "outputId": "241d8b4d-9a5c-424b-a5a6-a37e4389a973",
        "scrolled": true
      },
      "outputs": [
        {
          "data": {
            "text/plain": [
              "MiniBatchKMeans(n_clusters=2, random_state=324)"
            ]
          },
          "execution_count": 10,
          "metadata": {},
          "output_type": "execute_result"
        }
      ],
      "source": [
        "# fit the model\n",
        "kmeans.fit(X)"
      ],
      "id": "c60c0db4"
    },
    {
      "cell_type": "code",
      "execution_count": null,
      "metadata": {
        "id": "CnWKuBmct2Gs"
      },
      "outputs": [],
      "source": [
        "# assign a cluster to each example\n",
        "yhat = kmeans.predict(X)"
      ],
      "id": "CnWKuBmct2Gs"
    },
    {
      "cell_type": "markdown",
      "source": [
        "After making predictions for each cluster, I append a column to the dataframe with its cluster assignment."
      ],
      "metadata": {
        "id": "oZiGlMc_rLqr"
      },
      "id": "oZiGlMc_rLqr"
    },
    {
      "cell_type": "code",
      "execution_count": null,
      "metadata": {
        "id": "xtDj16eDucNy"
      },
      "outputs": [],
      "source": [
        "# dataframe with clusters \n",
        "df['2clusters'] = yhat.tolist()"
      ],
      "id": "xtDj16eDucNy"
    },
    {
      "cell_type": "code",
      "execution_count": null,
      "metadata": {
        "colab": {
          "base_uri": "https://localhost:8080/",
          "height": 206
        },
        "id": "s1i3L8VCNhzE",
        "outputId": "9191de1d-5816-48cb-9fdc-49a3d21509aa"
      },
      "outputs": [
        {
          "data": {
            "text/html": [
              "\n",
              "  <div id=\"df-83392da0-9f03-4b90-90b0-7b5beda54b4f\">\n",
              "    <div class=\"colab-df-container\">\n",
              "      <div>\n",
              "<style scoped>\n",
              "    .dataframe tbody tr th:only-of-type {\n",
              "        vertical-align: middle;\n",
              "    }\n",
              "\n",
              "    .dataframe tbody tr th {\n",
              "        vertical-align: top;\n",
              "    }\n",
              "\n",
              "    .dataframe thead th {\n",
              "        text-align: right;\n",
              "    }\n",
              "</style>\n",
              "<table border=\"1\" class=\"dataframe\">\n",
              "  <thead>\n",
              "    <tr style=\"text-align: right;\">\n",
              "      <th></th>\n",
              "      <th>PC_1</th>\n",
              "      <th>PC_2</th>\n",
              "      <th>PC_3</th>\n",
              "      <th>PC_4</th>\n",
              "      <th>2clusters</th>\n",
              "    </tr>\n",
              "  </thead>\n",
              "  <tbody>\n",
              "    <tr>\n",
              "      <th>0</th>\n",
              "      <td>-1.238091</td>\n",
              "      <td>2.850842</td>\n",
              "      <td>-0.921972</td>\n",
              "      <td>-1.012227</td>\n",
              "      <td>1</td>\n",
              "    </tr>\n",
              "    <tr>\n",
              "      <th>1</th>\n",
              "      <td>-0.922183</td>\n",
              "      <td>-0.549181</td>\n",
              "      <td>0.899407</td>\n",
              "      <td>0.613874</td>\n",
              "      <td>1</td>\n",
              "    </tr>\n",
              "    <tr>\n",
              "      <th>2</th>\n",
              "      <td>-1.294626</td>\n",
              "      <td>-1.472463</td>\n",
              "      <td>-0.382035</td>\n",
              "      <td>0.496146</td>\n",
              "      <td>1</td>\n",
              "    </tr>\n",
              "    <tr>\n",
              "      <th>3</th>\n",
              "      <td>-1.149435</td>\n",
              "      <td>-0.316652</td>\n",
              "      <td>-0.687722</td>\n",
              "      <td>-0.612451</td>\n",
              "      <td>1</td>\n",
              "    </tr>\n",
              "    <tr>\n",
              "      <th>4</th>\n",
              "      <td>-0.947126</td>\n",
              "      <td>-0.554357</td>\n",
              "      <td>0.095276</td>\n",
              "      <td>-0.588490</td>\n",
              "      <td>1</td>\n",
              "    </tr>\n",
              "  </tbody>\n",
              "</table>\n",
              "</div>\n",
              "      <button class=\"colab-df-convert\" onclick=\"convertToInteractive('df-83392da0-9f03-4b90-90b0-7b5beda54b4f')\"\n",
              "              title=\"Convert this dataframe to an interactive table.\"\n",
              "              style=\"display:none;\">\n",
              "        \n",
              "  <svg xmlns=\"http://www.w3.org/2000/svg\" height=\"24px\"viewBox=\"0 0 24 24\"\n",
              "       width=\"24px\">\n",
              "    <path d=\"M0 0h24v24H0V0z\" fill=\"none\"/>\n",
              "    <path d=\"M18.56 5.44l.94 2.06.94-2.06 2.06-.94-2.06-.94-.94-2.06-.94 2.06-2.06.94zm-11 1L8.5 8.5l.94-2.06 2.06-.94-2.06-.94L8.5 2.5l-.94 2.06-2.06.94zm10 10l.94 2.06.94-2.06 2.06-.94-2.06-.94-.94-2.06-.94 2.06-2.06.94z\"/><path d=\"M17.41 7.96l-1.37-1.37c-.4-.4-.92-.59-1.43-.59-.52 0-1.04.2-1.43.59L10.3 9.45l-7.72 7.72c-.78.78-.78 2.05 0 2.83L4 21.41c.39.39.9.59 1.41.59.51 0 1.02-.2 1.41-.59l7.78-7.78 2.81-2.81c.8-.78.8-2.07 0-2.86zM5.41 20L4 18.59l7.72-7.72 1.47 1.35L5.41 20z\"/>\n",
              "  </svg>\n",
              "      </button>\n",
              "      \n",
              "  <style>\n",
              "    .colab-df-container {\n",
              "      display:flex;\n",
              "      flex-wrap:wrap;\n",
              "      gap: 12px;\n",
              "    }\n",
              "\n",
              "    .colab-df-convert {\n",
              "      background-color: #E8F0FE;\n",
              "      border: none;\n",
              "      border-radius: 50%;\n",
              "      cursor: pointer;\n",
              "      display: none;\n",
              "      fill: #1967D2;\n",
              "      height: 32px;\n",
              "      padding: 0 0 0 0;\n",
              "      width: 32px;\n",
              "    }\n",
              "\n",
              "    .colab-df-convert:hover {\n",
              "      background-color: #E2EBFA;\n",
              "      box-shadow: 0px 1px 2px rgba(60, 64, 67, 0.3), 0px 1px 3px 1px rgba(60, 64, 67, 0.15);\n",
              "      fill: #174EA6;\n",
              "    }\n",
              "\n",
              "    [theme=dark] .colab-df-convert {\n",
              "      background-color: #3B4455;\n",
              "      fill: #D2E3FC;\n",
              "    }\n",
              "\n",
              "    [theme=dark] .colab-df-convert:hover {\n",
              "      background-color: #434B5C;\n",
              "      box-shadow: 0px 1px 3px 1px rgba(0, 0, 0, 0.15);\n",
              "      filter: drop-shadow(0px 1px 2px rgba(0, 0, 0, 0.3));\n",
              "      fill: #FFFFFF;\n",
              "    }\n",
              "  </style>\n",
              "\n",
              "      <script>\n",
              "        const buttonEl =\n",
              "          document.querySelector('#df-83392da0-9f03-4b90-90b0-7b5beda54b4f button.colab-df-convert');\n",
              "        buttonEl.style.display =\n",
              "          google.colab.kernel.accessAllowed ? 'block' : 'none';\n",
              "\n",
              "        async function convertToInteractive(key) {\n",
              "          const element = document.querySelector('#df-83392da0-9f03-4b90-90b0-7b5beda54b4f');\n",
              "          const dataTable =\n",
              "            await google.colab.kernel.invokeFunction('convertToInteractive',\n",
              "                                                     [key], {});\n",
              "          if (!dataTable) return;\n",
              "\n",
              "          const docLinkHtml = 'Like what you see? Visit the ' +\n",
              "            '<a target=\"_blank\" href=https://colab.research.google.com/notebooks/data_table.ipynb>data table notebook</a>'\n",
              "            + ' to learn more about interactive tables.';\n",
              "          element.innerHTML = '';\n",
              "          dataTable['output_type'] = 'display_data';\n",
              "          await google.colab.output.renderOutput(dataTable, element);\n",
              "          const docLink = document.createElement('div');\n",
              "          docLink.innerHTML = docLinkHtml;\n",
              "          element.appendChild(docLink);\n",
              "        }\n",
              "      </script>\n",
              "    </div>\n",
              "  </div>\n",
              "  "
            ],
            "text/plain": [
              "       PC_1      PC_2      PC_3      PC_4  2clusters\n",
              "0 -1.238091  2.850842 -0.921972 -1.012227          1\n",
              "1 -0.922183 -0.549181  0.899407  0.613874          1\n",
              "2 -1.294626 -1.472463 -0.382035  0.496146          1\n",
              "3 -1.149435 -0.316652 -0.687722 -0.612451          1\n",
              "4 -0.947126 -0.554357  0.095276 -0.588490          1"
            ]
          },
          "execution_count": 13,
          "metadata": {},
          "output_type": "execute_result"
        }
      ],
      "source": [
        "df.head()"
      ],
      "id": "s1i3L8VCNhzE"
    },
    {
      "cell_type": "code",
      "execution_count": null,
      "metadata": {
        "colab": {
          "base_uri": "https://localhost:8080/"
        },
        "id": "IucWbvBHOAn9",
        "outputId": "aa058702-f534-439b-ec9a-3d950a16b616"
      },
      "outputs": [
        {
          "data": {
            "text/plain": [
              "1    73387\n",
              "0    23032\n",
              "Name: 2clusters, dtype: int64"
            ]
          },
          "execution_count": 14,
          "metadata": {},
          "output_type": "execute_result"
        }
      ],
      "source": [
        "df['2clusters'].value_counts()"
      ],
      "id": "IucWbvBHOAn9"
    },
    {
      "cell_type": "markdown",
      "source": [
        "When we set k=2, The observations are divided like this:\n",
        "1. Cluster 1: 24%\n",
        "2. Cluster 2: 76%"
      ],
      "metadata": {
        "id": "jUPy_305qfma"
      },
      "id": "jUPy_305qfma"
    },
    {
      "cell_type": "code",
      "execution_count": null,
      "metadata": {
        "colab": {
          "base_uri": "https://localhost:8080/"
        },
        "id": "mOiuChV4OFZ2",
        "outputId": "f172f8b2-6a15-4d7f-ee77-5395f4f32db8"
      },
      "outputs": [
        {
          "data": {
            "text/plain": [
              "1    0.761126\n",
              "0    0.238874\n",
              "Name: 2clusters, dtype: float64"
            ]
          },
          "execution_count": 15,
          "metadata": {},
          "output_type": "execute_result"
        }
      ],
      "source": [
        " df['2clusters'].value_counts(normalize=True)"
      ],
      "id": "mOiuChV4OFZ2"
    },
    {
      "cell_type": "markdown",
      "source": [
        "I will re-run the algorithm with k=4 and append the cluster assignments to the dataframe."
      ],
      "metadata": {
        "id": "2D5rQ2VMqn-E"
      },
      "id": "2D5rQ2VMqn-E"
    },
    {
      "cell_type": "code",
      "execution_count": null,
      "metadata": {
        "id": "3t2HZ3s0hr5a"
      },
      "outputs": [],
      "source": [
        "kmeans = MiniBatchKMeans(n_clusters=4,random_state=324)\n",
        "kmeans.fit(X)\n",
        "yhat = kmeans.predict(X)\n",
        "df['4clusters'] = yhat.tolist()"
      ],
      "id": "3t2HZ3s0hr5a"
    },
    {
      "cell_type": "code",
      "execution_count": null,
      "metadata": {
        "colab": {
          "base_uri": "https://localhost:8080/"
        },
        "id": "qDFEnLz7iQui",
        "outputId": "18833897-944c-4ff5-a531-4db2bfa8b674"
      },
      "outputs": [
        {
          "data": {
            "text/plain": [
              "0    61391\n",
              "2    19560\n",
              "1    11183\n",
              "3     4285\n",
              "Name: 4clusters, dtype: int64"
            ]
          },
          "execution_count": 19,
          "metadata": {},
          "output_type": "execute_result"
        }
      ],
      "source": [
        "df['4clusters'].value_counts()"
      ],
      "id": "qDFEnLz7iQui"
    },
    {
      "cell_type": "markdown",
      "source": [
        "When we set k=4, The observations are divided like this:\n",
        "1. Cluster 1: 64%\n",
        "2. Cluster 2: 12%\n",
        "3. Cluster 3: 20%\n",
        "4. Cluster 4: 4%"
      ],
      "metadata": {
        "id": "E2lvHT0Mp6Qz"
      },
      "id": "E2lvHT0Mp6Qz"
    },
    {
      "cell_type": "code",
      "execution_count": null,
      "metadata": {
        "colab": {
          "base_uri": "https://localhost:8080/"
        },
        "id": "P2-brvgTidzK",
        "outputId": "065a9568-8328-4a72-d501-5c29d47eb1f8"
      },
      "outputs": [
        {
          "data": {
            "text/plain": [
              "0    0.636711\n",
              "2    0.202865\n",
              "1    0.115983\n",
              "3    0.044441\n",
              "Name: 4clusters, dtype: float64"
            ]
          },
          "execution_count": 20,
          "metadata": {},
          "output_type": "execute_result"
        }
      ],
      "source": [
        "df['4clusters'].value_counts(normalize=True)"
      ],
      "id": "P2-brvgTidzK"
    },
    {
      "cell_type": "markdown",
      "source": [
        "I will save the cluster assignments to a csv file so that I can visualize the clusters in a separate notebook."
      ],
      "metadata": {
        "id": "uZTMllRjr1nS"
      },
      "id": "uZTMllRjr1nS"
    },
    {
      "cell_type": "code",
      "source": [
        "df.to_csv('flights-pca-clustered.csv', index=False)"
      ],
      "metadata": {
        "id": "C7LkBBtvrYK4"
      },
      "id": "C7LkBBtvrYK4",
      "execution_count": 24,
      "outputs": []
    },
    {
      "cell_type": "markdown",
      "metadata": {
        "id": "xvW4_RyoCaUg"
      },
      "source": [
        "The following code chunk is taken and modified from the website:\n",
        "- https://medium.com/more-python-less-problems/principal-component-analysis-and-k-means-clustering-to-visualize-a-high-dimensional-dataset-577b2a7a5fe2\n",
        "\n",
        "Using the elbow plot method, the best number of clusters is in the range of 3 to 8 where the plot curves. The last big drop in inertia (indicating an information gain) occurs at 7."
      ],
      "id": "xvW4_RyoCaUg"
    },
    {
      "cell_type": "code",
      "execution_count": null,
      "metadata": {
        "colab": {
          "base_uri": "https://localhost:8080/",
          "height": 278
        },
        "id": "bep69O3iBQJO",
        "outputId": "7bab9f02-c21e-4724-ee6a-625e1ee04380"
      },
      "outputs": [
        {
          "data": {
            "image/png": "[encoded data removed]",
            "text/plain": [
              "<Figure size 432x288 with 1 Axes>"
            ]
          },
          "metadata": {},
          "output_type": "display_data"
        }
      ],
      "source": [
        "ks = range(1, 20)\n",
        "inertias = []\n",
        "for k in ks:\n",
        "    # Create a KMeans instance with k clusters: model\n",
        "    model = MiniBatchKMeans(n_clusters=k,random_state=324)\n",
        "    \n",
        "    # Fit model to samples\n",
        "    model.fit(X)\n",
        "    \n",
        "    # Append the inertia to the list of inertias\n",
        "    inertias.append(model.inertia_)\n",
        "    \n",
        "plt.plot(ks, inertias, '-o', color='black')\n",
        "plt.xlabel('number of clusters, k')\n",
        "plt.ylabel('inertia')\n",
        "plt.xticks(ks)\n",
        "plt.show()"
      ],
      "id": "bep69O3iBQJO"
    },
    {
      "cell_type": "markdown",
      "metadata": {
        "id": "99d41f1f"
      },
      "source": [
        "### Level 2\n",
        "### Exercise 2 \n",
        "Group the different flights using the hierarchical clustering algorithm.\n"
      ],
      "id": "99d41f1f"
    },
    {
      "cell_type": "markdown",
      "metadata": {
        "id": "fc601703"
      },
      "source": [
        "### Level 3\n",
        "### Exercise 3 \n",
        "Calculate clustering performance using a parameter such as silhouette.\n",
        "\n",
        "The following code was taken and modified from:\n",
        "- https://scikit-learn.org/stable/auto_examples/cluster/plot_kmeans_silhouette_analysis.html"
      ],
      "id": "fc601703"
    },
    {
      "cell_type": "markdown",
      "metadata": {
        "id": "mdzAuYYwKrrz"
      },
      "source": [
        "Based on the elbow plot, I will evaluate the average silhouette score for values in the range of 2 to 7\n",
        "\n",
        "The average silhouette scores are not great, but 2 clusters and 4 clusters have the highest scores."
      ],
      "id": "mdzAuYYwKrrz"
    },
    {
      "cell_type": "code",
      "execution_count": null,
      "metadata": {
        "colab": {
          "base_uri": "https://localhost:8080/",
          "height": 206
        },
        "id": "99iYuVEncaf5",
        "outputId": "92c1bedc-5a5c-40ce-9f83-a8278a2ced75"
      },
      "outputs": [
        {
          "data": {
            "text/html": [
              "\n",
              "  <div id=\"df-46127d26-5e66-407f-abdc-18f43149531c\">\n",
              "    <div class=\"colab-df-container\">\n",
              "      <div>\n",
              "<style scoped>\n",
              "    .dataframe tbody tr th:only-of-type {\n",
              "        vertical-align: middle;\n",
              "    }\n",
              "\n",
              "    .dataframe tbody tr th {\n",
              "        vertical-align: top;\n",
              "    }\n",
              "\n",
              "    .dataframe thead th {\n",
              "        text-align: right;\n",
              "    }\n",
              "</style>\n",
              "<table border=\"1\" class=\"dataframe\">\n",
              "  <thead>\n",
              "    <tr style=\"text-align: right;\">\n",
              "      <th></th>\n",
              "      <th>PC_1</th>\n",
              "      <th>PC_2</th>\n",
              "      <th>PC_3</th>\n",
              "      <th>PC_4</th>\n",
              "    </tr>\n",
              "  </thead>\n",
              "  <tbody>\n",
              "    <tr>\n",
              "      <th>0</th>\n",
              "      <td>-1.238091</td>\n",
              "      <td>2.850842</td>\n",
              "      <td>-0.921972</td>\n",
              "      <td>-1.012227</td>\n",
              "    </tr>\n",
              "    <tr>\n",
              "      <th>1</th>\n",
              "      <td>-0.922183</td>\n",
              "      <td>-0.549181</td>\n",
              "      <td>0.899407</td>\n",
              "      <td>0.613874</td>\n",
              "    </tr>\n",
              "    <tr>\n",
              "      <th>2</th>\n",
              "      <td>-1.294626</td>\n",
              "      <td>-1.472463</td>\n",
              "      <td>-0.382035</td>\n",
              "      <td>0.496146</td>\n",
              "    </tr>\n",
              "    <tr>\n",
              "      <th>3</th>\n",
              "      <td>-1.149435</td>\n",
              "      <td>-0.316652</td>\n",
              "      <td>-0.687722</td>\n",
              "      <td>-0.612451</td>\n",
              "    </tr>\n",
              "    <tr>\n",
              "      <th>4</th>\n",
              "      <td>-0.947126</td>\n",
              "      <td>-0.554357</td>\n",
              "      <td>0.095276</td>\n",
              "      <td>-0.588490</td>\n",
              "    </tr>\n",
              "  </tbody>\n",
              "</table>\n",
              "</div>\n",
              "      <button class=\"colab-df-convert\" onclick=\"convertToInteractive('df-46127d26-5e66-407f-abdc-18f43149531c')\"\n",
              "              title=\"Convert this dataframe to an interactive table.\"\n",
              "              style=\"display:none;\">\n",
              "        \n",
              "  <svg xmlns=\"http://www.w3.org/2000/svg\" height=\"24px\"viewBox=\"0 0 24 24\"\n",
              "       width=\"24px\">\n",
              "    <path d=\"M0 0h24v24H0V0z\" fill=\"none\"/>\n",
              "    <path d=\"M18.56 5.44l.94 2.06.94-2.06 2.06-.94-2.06-.94-.94-2.06-.94 2.06-2.06.94zm-11 1L8.5 8.5l.94-2.06 2.06-.94-2.06-.94L8.5 2.5l-.94 2.06-2.06.94zm10 10l.94 2.06.94-2.06 2.06-.94-2.06-.94-.94-2.06-.94 2.06-2.06.94z\"/><path d=\"M17.41 7.96l-1.37-1.37c-.4-.4-.92-.59-1.43-.59-.52 0-1.04.2-1.43.59L10.3 9.45l-7.72 7.72c-.78.78-.78 2.05 0 2.83L4 21.41c.39.39.9.59 1.41.59.51 0 1.02-.2 1.41-.59l7.78-7.78 2.81-2.81c.8-.78.8-2.07 0-2.86zM5.41 20L4 18.59l7.72-7.72 1.47 1.35L5.41 20z\"/>\n",
              "  </svg>\n",
              "      </button>\n",
              "      \n",
              "  <style>\n",
              "    .colab-df-container {\n",
              "      display:flex;\n",
              "      flex-wrap:wrap;\n",
              "      gap: 12px;\n",
              "    }\n",
              "\n",
              "    .colab-df-convert {\n",
              "      background-color: #E8F0FE;\n",
              "      border: none;\n",
              "      border-radius: 50%;\n",
              "      cursor: pointer;\n",
              "      display: none;\n",
              "      fill: #1967D2;\n",
              "      height: 32px;\n",
              "      padding: 0 0 0 0;\n",
              "      width: 32px;\n",
              "    }\n",
              "\n",
              "    .colab-df-convert:hover {\n",
              "      background-color: #E2EBFA;\n",
              "      box-shadow: 0px 1px 2px rgba(60, 64, 67, 0.3), 0px 1px 3px 1px rgba(60, 64, 67, 0.15);\n",
              "      fill: #174EA6;\n",
              "    }\n",
              "\n",
              "    [theme=dark] .colab-df-convert {\n",
              "      background-color: #3B4455;\n",
              "      fill: #D2E3FC;\n",
              "    }\n",
              "\n",
              "    [theme=dark] .colab-df-convert:hover {\n",
              "      background-color: #434B5C;\n",
              "      box-shadow: 0px 1px 3px 1px rgba(0, 0, 0, 0.15);\n",
              "      filter: drop-shadow(0px 1px 2px rgba(0, 0, 0, 0.3));\n",
              "      fill: #FFFFFF;\n",
              "    }\n",
              "  </style>\n",
              "\n",
              "      <script>\n",
              "        const buttonEl =\n",
              "          document.querySelector('#df-46127d26-5e66-407f-abdc-18f43149531c button.colab-df-convert');\n",
              "        buttonEl.style.display =\n",
              "          google.colab.kernel.accessAllowed ? 'block' : 'none';\n",
              "\n",
              "        async function convertToInteractive(key) {\n",
              "          const element = document.querySelector('#df-46127d26-5e66-407f-abdc-18f43149531c');\n",
              "          const dataTable =\n",
              "            await google.colab.kernel.invokeFunction('convertToInteractive',\n",
              "                                                     [key], {});\n",
              "          if (!dataTable) return;\n",
              "\n",
              "          const docLinkHtml = 'Like what you see? Visit the ' +\n",
              "            '<a target=\"_blank\" href=https://colab.research.google.com/notebooks/data_table.ipynb>data table notebook</a>'\n",
              "            + ' to learn more about interactive tables.';\n",
              "          element.innerHTML = '';\n",
              "          dataTable['output_type'] = 'display_data';\n",
              "          await google.colab.output.renderOutput(dataTable, element);\n",
              "          const docLink = document.createElement('div');\n",
              "          docLink.innerHTML = docLinkHtml;\n",
              "          element.appendChild(docLink);\n",
              "        }\n",
              "      </script>\n",
              "    </div>\n",
              "  </div>\n",
              "  "
            ],
            "text/plain": [
              "       PC_1      PC_2      PC_3      PC_4\n",
              "0 -1.238091  2.850842 -0.921972 -1.012227\n",
              "1 -0.922183 -0.549181  0.899407  0.613874\n",
              "2 -1.294626 -1.472463 -0.382035  0.496146\n",
              "3 -1.149435 -0.316652 -0.687722 -0.612451\n",
              "4 -0.947126 -0.554357  0.095276 -0.588490"
            ]
          },
          "execution_count": 22,
          "metadata": {},
          "output_type": "execute_result"
        }
      ],
      "source": [
        "X.head()"
      ],
      "id": "99iYuVEncaf5"
    },
    {
      "cell_type": "code",
      "execution_count": null,
      "metadata": {
        "colab": {
          "background_save": true,
          "base_uri": "https://localhost:8080/"
        },
        "id": "T7JnPGPnH8HM",
        "outputId": "44dda5b0-4f79-4d06-8f09-5fbbc36f96e4"
      },
      "outputs": [
        {
          "name": "stdout",
          "output_type": "stream",
          "text": [
            "For n_clusters = 2 The average silhouette_score is : 0.4014795003689444\n",
            "For n_clusters = 3 The average silhouette_score is : 0.3371956915453362\n",
            "For n_clusters = 4 The average silhouette_score is : 0.35823909020817024\n",
            "For n_clusters = 5 The average silhouette_score is : 0.30541301229687146\n",
            "For n_clusters = 6 The average silhouette_score is : 0.2949573458353219\n",
            "For n_clusters = 7 The average silhouette_score is : 0.3357883801978272\n"
          ]
        }
      ],
      "source": [
        "range_n_clusters = [2, 3, 4, 5, 6, 7]\n",
        "\n",
        "for n_clusters in range_n_clusters:\n",
        "    # Initialize the clusterer with n_clusters value and a random generator\n",
        "    # seed of 324 for reproducibility.\n",
        "    clusterer = MiniBatchKMeans(n_clusters=n_clusters, random_state=324)\n",
        "    cluster_labels = clusterer.fit_predict(X)\n",
        "\n",
        "    # The silhouette_score gives the average value for all the samples.\n",
        "    # This gives a perspective into the density and separation of the formed\n",
        "    # clusters\n",
        "    silhouette_avg = silhouette_score(X, cluster_labels)\n",
        "    print(\n",
        "        \"For n_clusters =\",\n",
        "        n_clusters,\n",
        "        \"The average silhouette_score is :\",\n",
        "        silhouette_avg,\n",
        "    )"
      ],
      "id": "T7JnPGPnH8HM"
    }
  ],
  "metadata": {
    "colab": {
      "collapsed_sections": [],
      "name": "Sprint 11 - PCA_Clustering.ipynb",
      "provenance": [],
      "include_colab_link": true
    },
    "kernelspec": {
      "display_name": "Python 3 (ipykernel)",
      "language": "python",
      "name": "python3"
    },
    "language_info": {
      "codemirror_mode": {
        "name": "ipython",
        "version": 3
      },
      "file_extension": ".py",
      "mimetype": "text/x-python",
      "name": "python",
      "nbconvert_exporter": "python",
      "pygments_lexer": "ipython3",
      "version": "3.8.8"
    },
    "nbTranslate": {
      "displayLangs": [
        "es",
        "en"
      ],
      "hotkey": "alt-t",
      "langInMainMenu": true,
      "sourceLang": "en",
      "targetLang": "es",
      "useGoogleTranslate": true
    },
    "varInspector": {
      "cols": {
        "lenName": 16,
        "lenType": 16,
        "lenVar": 40
      },
      "kernels_config": {
        "python": {
          "delete_cmd_postfix": "",
          "delete_cmd_prefix": "del ",
          "library": "var_list.py",
          "varRefreshCmd": "print(var_dic_list())"
        },
        "r": {
          "delete_cmd_postfix": ") ",
          "delete_cmd_prefix": "rm(",
          "library": "var_list.r",
          "varRefreshCmd": "cat(var_dic_list()) "
        }
      },
      "types_to_exclude": [
        "module",
        "function",
        "builtin_function_or_method",
        "instance",
        "_Feature"
      ],
      "window_display": false
    }
  },
  "nbformat": 4,
  "nbformat_minor": 5
}