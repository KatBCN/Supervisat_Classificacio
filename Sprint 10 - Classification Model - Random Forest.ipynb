{
 "cells": [
  {
   "cell_type": "markdown",
   "id": "98b21b19",
   "metadata": {},
   "source": [
    "# <font color='#d50283'>IT Academy - Data Science Itinerary</font>\n",
    "## Sprint 10 Task 1 - Supervised Classification\n",
    "### Model 3: Random Forest\n",
    "\n",
    "### Assignment by: Kat Weissman\n",
    "\n",
    "#### General objective:\n",
    "\n",
    "- Practice and become familiar with classification algorithms.\n",
    "\n",
    "#### Python Learning Objectives:\n",
    "- Classification trees\n",
    "- KNN - k-Nearest Neighbors\n",
    "- Logistic Regression\n",
    "- Support Vector Machine\n",
    "- XGboost"
   ]
  },
  {
   "cell_type": "markdown",
   "id": "6ce01116",
   "metadata": {},
   "source": [
    "*Recommended learning resources:*\n",
    "- https://www.datacamp.com/community/tutorials/decision-tree-classification-python\n",
    "- https://towardsdatascience.com/how-to-best-evaluate-a-classification-model-2edb12bcc587\n",
    "- https://www.ritchieng.com/machine-learning-evaluate-classification-model/\n",
    "- https://towardsdatascience.com/hackcvilleds-4636c6c1ba53\n",
    "- https://scikit-learn.org/stable/modules/cross_validation.html\n",
    "\n",
    "Classification Models:\n",
    "- https://stackabuse.com/k-nearest-neighbors-algorithm-in-python-and-scikit-learn/\n",
    "- https://www.datacamp.com/community/tutorials/understanding-logistic-regression-python\n",
    "- https://towardsdatascience.com/logistic-regression-using-python-sklearn-numpy-mnist-handwriting-recognition-matplotlib-a6b31e2b166a\n",
    "- https://www.datacamp.com/community/tutorials/svm-classification-scikit-learn-python\n",
    "- https://www.datacamp.com/community/tutorials/xgboost-in-python\n",
    "\n",
    "Imbalanced Data:\n",
    "- https://towardsdatascience.com/methods-for-dealing-with-imbalanced-data-5b761be45a18\n",
    "- https://www.kdnuggets.com/2019/05/fix-unbalanced-dataset.html\n",
    "- https://machinelearningmastery.com/tactics-to-combat-imbalanced-classes-in-your-machine-learning-dataset/\n",
    "- https://machinelearningmastery.com/smote-oversampling-for-imbalanced-classification/"
   ]
  },
  {
   "cell_type": "code",
   "execution_count": 2,
   "id": "7b505a6a",
   "metadata": {
    "ExecuteTime": {
     "end_time": "2021-07-22T10:31:49.600112Z",
     "start_time": "2021-07-22T10:31:49.590900Z"
    }
   },
   "outputs": [],
   "source": [
    "#Import libraries - basic\n",
    "import numpy as np\n",
    "import pandas as pd\n",
    "import matplotlib.pyplot as plt\n",
    "import seaborn as sns\n",
    "from scipy import stats"
   ]
  },
  {
   "cell_type": "code",
   "execution_count": 3,
   "id": "254bc383",
   "metadata": {},
   "outputs": [],
   "source": [
    "#Import libraries - classification\n",
    "from sklearn.model_selection import train_test_split\n",
    "from sklearn import metrics\n",
    "from sklearn.ensemble import RandomForestClassifier\n",
    "from sklearn.model_selection import KFold\n",
    "from sklearn.model_selection import cross_val_score\n",
    "from sklearn.model_selection import StratifiedKFold"
   ]
  },
  {
   "cell_type": "markdown",
   "id": "0b26aee1",
   "metadata": {},
   "source": [
    "### Level 1\n",
    "### Exercise 1 \n",
    "Create at least three different classification models to try to best predict DelayedFlights.csv flight delay (ArrDelay). Consider whether the flight is late or not (ArrDelay> 0).\n",
    "\n",
    "Reference: https://towardsdatascience.com/lazy-predict-fit-and-evaluate-all-the-models-from-scikit-learn-with-a-single-line-of-code-7fe510c7281"
   ]
  },
  {
   "cell_type": "code",
   "execution_count": 4,
   "id": "6e0f87d6",
   "metadata": {},
   "outputs": [],
   "source": [
    "pd.set_option('display.max_columns', None)  #set display to show all columns"
   ]
  },
  {
   "cell_type": "markdown",
   "id": "3b585e1b",
   "metadata": {},
   "source": [
    "Note about imbalanced data:\n",
    "\n",
    "I will load the data which I pre-processed and applied the SMOTE technique for sampling in a different notebook. This created a balanced dataset from an imbalanced one.\n",
    "\n",
    "- https://github.com/KatBCN/Supervisat_Classificacio/blob/main/Sprint%2010%20-%20Classification%20Model%20-%20Pre-Processing.ipynb"
   ]
  },
  {
   "cell_type": "code",
   "execution_count": 5,
   "id": "276e8c30",
   "metadata": {},
   "outputs": [],
   "source": [
    "data_link = 'https://github.com/KatBCN/Supervisat_Classificacio/blob/main/flights-sampled-smoted.pkl.bz2?raw=true'\n",
    "df = pd.read_pickle(data_link,compression='bz2')"
   ]
  },
  {
   "cell_type": "markdown",
   "id": "0930e7af",
   "metadata": {},
   "source": [
    "#### Data Exploration"
   ]
  },
  {
   "cell_type": "code",
   "execution_count": 6,
   "id": "676b7b91",
   "metadata": {},
   "outputs": [
    {
     "data": {
      "text/plain": [
       "(172248, 20)"
      ]
     },
     "execution_count": 6,
     "metadata": {},
     "output_type": "execute_result"
    }
   ],
   "source": [
    "# Show number of rows and columns in dataframe\n",
    "df.shape"
   ]
  },
  {
   "cell_type": "code",
   "execution_count": 7,
   "id": "fe56a352",
   "metadata": {
    "scrolled": false
   },
   "outputs": [
    {
     "data": {
      "text/plain": [
       "Index(['Month', 'DayOfWeek', 'DepTime', 'CRSDepTime', 'ArrTime', 'CRSArrTime',\n",
       "       'UniqueCarrier', 'ActualElapsedTime', 'CRSElapsedTime', 'AirTime',\n",
       "       'ArrDelay', 'DepDelay', 'Origin', 'Dest', 'Distance', 'TaxiIn',\n",
       "       'TaxiOut', 'Cancelled', 'Diverted', 'Delayed'],\n",
       "      dtype='object')"
      ]
     },
     "execution_count": 7,
     "metadata": {},
     "output_type": "execute_result"
    }
   ],
   "source": [
    "# Show column names\n",
    "df.columns"
   ]
  },
  {
   "cell_type": "code",
   "execution_count": 8,
   "id": "da2379e4",
   "metadata": {
    "scrolled": false
   },
   "outputs": [
    {
     "data": {
      "text/html": [
       "<div>\n",
       "<style scoped>\n",
       "    .dataframe tbody tr th:only-of-type {\n",
       "        vertical-align: middle;\n",
       "    }\n",
       "\n",
       "    .dataframe tbody tr th {\n",
       "        vertical-align: top;\n",
       "    }\n",
       "\n",
       "    .dataframe thead th {\n",
       "        text-align: right;\n",
       "    }\n",
       "</style>\n",
       "<table border=\"1\" class=\"dataframe\">\n",
       "  <thead>\n",
       "    <tr style=\"text-align: right;\">\n",
       "      <th></th>\n",
       "      <th>Month</th>\n",
       "      <th>DayOfWeek</th>\n",
       "      <th>DepTime</th>\n",
       "      <th>CRSDepTime</th>\n",
       "      <th>ArrTime</th>\n",
       "      <th>CRSArrTime</th>\n",
       "      <th>UniqueCarrier</th>\n",
       "      <th>ActualElapsedTime</th>\n",
       "      <th>CRSElapsedTime</th>\n",
       "      <th>AirTime</th>\n",
       "      <th>ArrDelay</th>\n",
       "      <th>DepDelay</th>\n",
       "      <th>Origin</th>\n",
       "      <th>Dest</th>\n",
       "      <th>Distance</th>\n",
       "      <th>TaxiIn</th>\n",
       "      <th>TaxiOut</th>\n",
       "      <th>Cancelled</th>\n",
       "      <th>Diverted</th>\n",
       "      <th>Delayed</th>\n",
       "    </tr>\n",
       "  </thead>\n",
       "  <tbody>\n",
       "    <tr>\n",
       "      <th>0</th>\n",
       "      <td>7</td>\n",
       "      <td>5</td>\n",
       "      <td>1511.0</td>\n",
       "      <td>1505</td>\n",
       "      <td>1740.0</td>\n",
       "      <td>1740</td>\n",
       "      <td>WN</td>\n",
       "      <td>269.0</td>\n",
       "      <td>275.0</td>\n",
       "      <td>252.0</td>\n",
       "      <td>0.0</td>\n",
       "      <td>6.0</td>\n",
       "      <td>BNA</td>\n",
       "      <td>OAK</td>\n",
       "      <td>1959</td>\n",
       "      <td>5.0</td>\n",
       "      <td>12.0</td>\n",
       "      <td>0</td>\n",
       "      <td>0</td>\n",
       "      <td>0</td>\n",
       "    </tr>\n",
       "    <tr>\n",
       "      <th>1</th>\n",
       "      <td>1</td>\n",
       "      <td>5</td>\n",
       "      <td>1736.0</td>\n",
       "      <td>1730</td>\n",
       "      <td>1913.0</td>\n",
       "      <td>1858</td>\n",
       "      <td>FL</td>\n",
       "      <td>97.0</td>\n",
       "      <td>88.0</td>\n",
       "      <td>69.0</td>\n",
       "      <td>15.0</td>\n",
       "      <td>6.0</td>\n",
       "      <td>BOS</td>\n",
       "      <td>BWI</td>\n",
       "      <td>370</td>\n",
       "      <td>9.0</td>\n",
       "      <td>19.0</td>\n",
       "      <td>0</td>\n",
       "      <td>0</td>\n",
       "      <td>1</td>\n",
       "    </tr>\n",
       "    <tr>\n",
       "      <th>2</th>\n",
       "      <td>4</td>\n",
       "      <td>2</td>\n",
       "      <td>1611.0</td>\n",
       "      <td>1600</td>\n",
       "      <td>1711.0</td>\n",
       "      <td>1700</td>\n",
       "      <td>WN</td>\n",
       "      <td>60.0</td>\n",
       "      <td>60.0</td>\n",
       "      <td>41.0</td>\n",
       "      <td>11.0</td>\n",
       "      <td>11.0</td>\n",
       "      <td>ONT</td>\n",
       "      <td>LAS</td>\n",
       "      <td>197</td>\n",
       "      <td>3.0</td>\n",
       "      <td>16.0</td>\n",
       "      <td>0</td>\n",
       "      <td>0</td>\n",
       "      <td>1</td>\n",
       "    </tr>\n",
       "    <tr>\n",
       "      <th>3</th>\n",
       "      <td>5</td>\n",
       "      <td>5</td>\n",
       "      <td>1551.0</td>\n",
       "      <td>1535</td>\n",
       "      <td>1803.0</td>\n",
       "      <td>1740</td>\n",
       "      <td>WN</td>\n",
       "      <td>132.0</td>\n",
       "      <td>125.0</td>\n",
       "      <td>121.0</td>\n",
       "      <td>23.0</td>\n",
       "      <td>16.0</td>\n",
       "      <td>STL</td>\n",
       "      <td>HOU</td>\n",
       "      <td>687</td>\n",
       "      <td>3.0</td>\n",
       "      <td>8.0</td>\n",
       "      <td>0</td>\n",
       "      <td>0</td>\n",
       "      <td>1</td>\n",
       "    </tr>\n",
       "    <tr>\n",
       "      <th>4</th>\n",
       "      <td>4</td>\n",
       "      <td>3</td>\n",
       "      <td>1754.0</td>\n",
       "      <td>1725</td>\n",
       "      <td>1834.0</td>\n",
       "      <td>1820</td>\n",
       "      <td>WN</td>\n",
       "      <td>100.0</td>\n",
       "      <td>115.0</td>\n",
       "      <td>86.0</td>\n",
       "      <td>14.0</td>\n",
       "      <td>29.0</td>\n",
       "      <td>SLC</td>\n",
       "      <td>LAX</td>\n",
       "      <td>590</td>\n",
       "      <td>6.0</td>\n",
       "      <td>8.0</td>\n",
       "      <td>0</td>\n",
       "      <td>0</td>\n",
       "      <td>1</td>\n",
       "    </tr>\n",
       "  </tbody>\n",
       "</table>\n",
       "</div>"
      ],
      "text/plain": [
       "  Month DayOfWeek  DepTime  CRSDepTime  ArrTime  CRSArrTime UniqueCarrier  \\\n",
       "0     7         5   1511.0        1505   1740.0        1740            WN   \n",
       "1     1         5   1736.0        1730   1913.0        1858            FL   \n",
       "2     4         2   1611.0        1600   1711.0        1700            WN   \n",
       "3     5         5   1551.0        1535   1803.0        1740            WN   \n",
       "4     4         3   1754.0        1725   1834.0        1820            WN   \n",
       "\n",
       "   ActualElapsedTime  CRSElapsedTime  AirTime  ArrDelay  DepDelay Origin Dest  \\\n",
       "0              269.0           275.0    252.0       0.0       6.0    BNA  OAK   \n",
       "1               97.0            88.0     69.0      15.0       6.0    BOS  BWI   \n",
       "2               60.0            60.0     41.0      11.0      11.0    ONT  LAS   \n",
       "3              132.0           125.0    121.0      23.0      16.0    STL  HOU   \n",
       "4              100.0           115.0     86.0      14.0      29.0    SLC  LAX   \n",
       "\n",
       "   Distance  TaxiIn  TaxiOut Cancelled Diverted  Delayed  \n",
       "0      1959     5.0     12.0         0        0        0  \n",
       "1       370     9.0     19.0         0        0        1  \n",
       "2       197     3.0     16.0         0        0        1  \n",
       "3       687     3.0      8.0         0        0        1  \n",
       "4       590     6.0      8.0         0        0        1  "
      ]
     },
     "execution_count": 8,
     "metadata": {},
     "output_type": "execute_result"
    }
   ],
   "source": [
    "# Display first 5 rows of dataframe\n",
    "df.head(5)"
   ]
  },
  {
   "cell_type": "code",
   "execution_count": 9,
   "id": "200225ad",
   "metadata": {
    "scrolled": false
   },
   "outputs": [
    {
     "data": {
      "text/plain": [
       "Month                 object\n",
       "DayOfWeek             object\n",
       "DepTime              float64\n",
       "CRSDepTime             int64\n",
       "ArrTime              float64\n",
       "CRSArrTime             int64\n",
       "UniqueCarrier         object\n",
       "ActualElapsedTime    float64\n",
       "CRSElapsedTime       float64\n",
       "AirTime              float64\n",
       "ArrDelay             float64\n",
       "DepDelay             float64\n",
       "Origin                object\n",
       "Dest                  object\n",
       "Distance               int64\n",
       "TaxiIn               float64\n",
       "TaxiOut              float64\n",
       "Cancelled             object\n",
       "Diverted              object\n",
       "Delayed                int64\n",
       "dtype: object"
      ]
     },
     "execution_count": 9,
     "metadata": {},
     "output_type": "execute_result"
    }
   ],
   "source": [
    "# check data set variables\n",
    "df.dtypes"
   ]
  },
  {
   "cell_type": "code",
   "execution_count": 10,
   "id": "a2dec1f7",
   "metadata": {
    "scrolled": true
   },
   "outputs": [
    {
     "data": {
      "text/plain": [
       "0"
      ]
     },
     "execution_count": 10,
     "metadata": {},
     "output_type": "execute_result"
    }
   ],
   "source": [
    "# Check for duplicates\n",
    "sum(df.duplicated())"
   ]
  },
  {
   "cell_type": "markdown",
   "id": "19ceecae",
   "metadata": {},
   "source": [
    "### Model 3 - Random Forest Classifier\n",
    "\n",
    "The third model will be an ensemble Random Forest Classifier\n",
    "\n",
    "I would like to know if we can predict if a flight will be delayed based on actual elapsed time, distance, TaxiIn, and TaxiOut.\n",
    "\n",
    "I performed the same task using a Decision Tree Classifier and Logistic Regression Classifer in different notebooks:\n",
    "- https://github.com/KatBCN/Supervisat_Classificacio/blob/main/Sprint%2010%20-%20Classification%20Model%20-%20Classification%20Tree.ipynb\n",
    "- https://github.com/KatBCN/Supervisat_Classificacio/blob/main/Sprint%2010%20-%20Classification%20Model%20-%20Logistic%20Regression%20Classifier.ipynb\n",
    "\n",
    "The Decision Tree Classifier performed much better than the Logistic Regression Classifier."
   ]
  },
  {
   "cell_type": "code",
   "execution_count": 11,
   "id": "7b50e2df",
   "metadata": {},
   "outputs": [],
   "source": [
    "X = df[['ActualElapsedTime', 'Distance', 'TaxiIn', 'TaxiOut']]\n",
    "y = df['Delayed']\n",
    "X_train, X_test, y_train, y_test = train_test_split(X, y, test_size=.2, random_state=42)"
   ]
  },
  {
   "cell_type": "code",
   "execution_count": 12,
   "id": "bb51ad77",
   "metadata": {},
   "outputs": [
    {
     "data": {
      "text/html": [
       "<div>\n",
       "<style scoped>\n",
       "    .dataframe tbody tr th:only-of-type {\n",
       "        vertical-align: middle;\n",
       "    }\n",
       "\n",
       "    .dataframe tbody tr th {\n",
       "        vertical-align: top;\n",
       "    }\n",
       "\n",
       "    .dataframe thead th {\n",
       "        text-align: right;\n",
       "    }\n",
       "</style>\n",
       "<table border=\"1\" class=\"dataframe\">\n",
       "  <thead>\n",
       "    <tr style=\"text-align: right;\">\n",
       "      <th></th>\n",
       "      <th>ActualElapsedTime</th>\n",
       "      <th>Distance</th>\n",
       "      <th>TaxiIn</th>\n",
       "      <th>TaxiOut</th>\n",
       "    </tr>\n",
       "  </thead>\n",
       "  <tbody>\n",
       "    <tr>\n",
       "      <th>0</th>\n",
       "      <td>269.0</td>\n",
       "      <td>1959</td>\n",
       "      <td>5.0</td>\n",
       "      <td>12.0</td>\n",
       "    </tr>\n",
       "    <tr>\n",
       "      <th>1</th>\n",
       "      <td>97.0</td>\n",
       "      <td>370</td>\n",
       "      <td>9.0</td>\n",
       "      <td>19.0</td>\n",
       "    </tr>\n",
       "    <tr>\n",
       "      <th>2</th>\n",
       "      <td>60.0</td>\n",
       "      <td>197</td>\n",
       "      <td>3.0</td>\n",
       "      <td>16.0</td>\n",
       "    </tr>\n",
       "    <tr>\n",
       "      <th>3</th>\n",
       "      <td>132.0</td>\n",
       "      <td>687</td>\n",
       "      <td>3.0</td>\n",
       "      <td>8.0</td>\n",
       "    </tr>\n",
       "    <tr>\n",
       "      <th>4</th>\n",
       "      <td>100.0</td>\n",
       "      <td>590</td>\n",
       "      <td>6.0</td>\n",
       "      <td>8.0</td>\n",
       "    </tr>\n",
       "  </tbody>\n",
       "</table>\n",
       "</div>"
      ],
      "text/plain": [
       "   ActualElapsedTime  Distance  TaxiIn  TaxiOut\n",
       "0              269.0      1959     5.0     12.0\n",
       "1               97.0       370     9.0     19.0\n",
       "2               60.0       197     3.0     16.0\n",
       "3              132.0       687     3.0      8.0\n",
       "4              100.0       590     6.0      8.0"
      ]
     },
     "execution_count": 12,
     "metadata": {},
     "output_type": "execute_result"
    }
   ],
   "source": [
    "X.head()"
   ]
  },
  {
   "cell_type": "markdown",
   "id": "8750d9d1",
   "metadata": {},
   "source": [
    "References:\n",
    "- https://scikit-learn.org/stable/modules/generated/sklearn.ensemble.RandomForestClassifier.html"
   ]
  },
  {
   "cell_type": "code",
   "execution_count": 13,
   "id": "8042c4af",
   "metadata": {},
   "outputs": [],
   "source": [
    "# Create Random Forest Classifier\n",
    "clf = RandomForestClassifier(random_state=324)"
   ]
  },
  {
   "cell_type": "code",
   "execution_count": 14,
   "id": "92178a47",
   "metadata": {},
   "outputs": [
    {
     "data": {
      "text/plain": [
       "RandomForestClassifier(random_state=324)"
      ]
     },
     "execution_count": 14,
     "metadata": {},
     "output_type": "execute_result"
    }
   ],
   "source": [
    "# train model\n",
    "clf.fit(X_train, y_train)"
   ]
  },
  {
   "cell_type": "code",
   "execution_count": 15,
   "id": "32a2ed3d",
   "metadata": {},
   "outputs": [],
   "source": [
    "# make predictions for test data\n",
    "y_pred = clf.predict(X_test)"
   ]
  },
  {
   "cell_type": "markdown",
   "id": "c81ba822",
   "metadata": {},
   "source": [
    "### Level 1\n",
    "### Exercise 2 : Confusion Matrix & Metrics\n",
    "Compare classification models using accuracy, a confidence matrix, and other more advanced metrics.\n",
    "\n",
    "Balanced Accuracy is important for imbalanced datasets. https://scikit-learn.org/stable/modules/generated/sklearn.metrics.balanced_accuracy_score.html\n",
    "\n",
    "In this case, I balanced the data using SMOTE before training the model, and I am also testing on the SMOTEd dataset, so the balanced accuracy should be similar to the accuracy."
   ]
  },
  {
   "cell_type": "code",
   "execution_count": 16,
   "id": "3a727c2d",
   "metadata": {},
   "outputs": [],
   "source": [
    "def evaluateModel(y_test, y_pred):\n",
    "    print(metrics.confusion_matrix(y_test, y_pred))\n",
    "    print(\"Accuracy:\",metrics.accuracy_score(y_test, y_pred))\n",
    "    print(\"Balanced Accuracy:\",metrics.balanced_accuracy_score(y_test, y_pred))\n",
    "    print(\"Classification Report:\")\n",
    "    print(metrics.classification_report(y_test, y_pred))"
   ]
  },
  {
   "cell_type": "markdown",
   "id": "d56580f0",
   "metadata": {},
   "source": [
    "The Random Forest classifier performs even better than the Decision Tree Classifier as expected. Balanced accuracy increased from 88.4% using a Decision Tree to 91.9% using a Random Forest."
   ]
  },
  {
   "cell_type": "code",
   "execution_count": 17,
   "id": "889b9377",
   "metadata": {
    "scrolled": false
   },
   "outputs": [
    {
     "name": "stdout",
     "output_type": "stream",
     "text": [
      "[[15329  2023]\n",
      " [  773 16325]]\n",
      "Accuracy: 0.9188388969521045\n",
      "Balanced Accuracy: 0.9191020247987614\n",
      "Classification Report:\n",
      "              precision    recall  f1-score   support\n",
      "\n",
      "           0       0.95      0.88      0.92     17352\n",
      "           1       0.89      0.95      0.92     17098\n",
      "\n",
      "    accuracy                           0.92     34450\n",
      "   macro avg       0.92      0.92      0.92     34450\n",
      "weighted avg       0.92      0.92      0.92     34450\n",
      "\n"
     ]
    }
   ],
   "source": [
    "# Random Forest Confusion Matrix\n",
    "evaluateModel(y_test,y_pred)"
   ]
  },
  {
   "cell_type": "markdown",
   "id": "5a5d85bc",
   "metadata": {},
   "source": [
    "### Level 1\n",
    "### Exercise 3 : Parameter Tuning\n",
    "Train them using the different parameters they support.\n",
    "\n",
    "- https://scikit-learn.org/stable/modules/generated/sklearn.ensemble.RandomForestClassifier.html\n",
    "\n",
    "Default parameters:\n",
    "\n",
    "class sklearn.ensemble.RandomForestClassifier(n_estimators=100, *, criterion='gini', max_depth=None, min_samples_split=2, min_samples_leaf=1, min_weight_fraction_leaf=0.0, max_features='auto', max_leaf_nodes=None, min_impurity_decrease=0.0, bootstrap=True, oob_score=False, n_jobs=None, random_state=None, verbose=0, warm_start=False, class_weight=None, ccp_alpha=0.0, max_samples=None)\n"
   ]
  },
  {
   "cell_type": "markdown",
   "id": "d1e840b7",
   "metadata": {},
   "source": [
    "Here are the parameters I used in the first case:"
   ]
  },
  {
   "cell_type": "code",
   "execution_count": 18,
   "id": "86e6fe0b",
   "metadata": {
    "scrolled": false
   },
   "outputs": [
    {
     "data": {
      "text/plain": [
       "{'bootstrap': True,\n",
       " 'ccp_alpha': 0.0,\n",
       " 'class_weight': None,\n",
       " 'criterion': 'gini',\n",
       " 'max_depth': None,\n",
       " 'max_features': 'auto',\n",
       " 'max_leaf_nodes': None,\n",
       " 'max_samples': None,\n",
       " 'min_impurity_decrease': 0.0,\n",
       " 'min_impurity_split': None,\n",
       " 'min_samples_leaf': 1,\n",
       " 'min_samples_split': 2,\n",
       " 'min_weight_fraction_leaf': 0.0,\n",
       " 'n_estimators': 100,\n",
       " 'n_jobs': None,\n",
       " 'oob_score': False,\n",
       " 'random_state': 324,\n",
       " 'verbose': 0,\n",
       " 'warm_start': False}"
      ]
     },
     "execution_count": 18,
     "metadata": {},
     "output_type": "execute_result"
    }
   ],
   "source": [
    "clf.get_params()"
   ]
  },
  {
   "cell_type": "markdown",
   "id": "df7b3d8f",
   "metadata": {},
   "source": [
    "For my second regression model, I will try to use a different criterion and set a max depth to 20."
   ]
  },
  {
   "cell_type": "code",
   "execution_count": 19,
   "id": "7a50c5bc",
   "metadata": {},
   "outputs": [],
   "source": [
    "# Create Random Forest classifer object with different parameters\n",
    "clf2 = RandomForestClassifier(random_state=324, criterion='entropy', max_depth=20)"
   ]
  },
  {
   "cell_type": "code",
   "execution_count": 20,
   "id": "dd4f621e",
   "metadata": {},
   "outputs": [],
   "source": [
    "# Train Classifer\n",
    "clf2 = clf2.fit(X_train,y_train)"
   ]
  },
  {
   "cell_type": "code",
   "execution_count": 21,
   "id": "763dc693",
   "metadata": {},
   "outputs": [],
   "source": [
    "#Predict the response for test dataset\n",
    "y_pred2 = clf2.predict(X_test)"
   ]
  },
  {
   "cell_type": "markdown",
   "id": "af7fa3b8",
   "metadata": {},
   "source": [
    "The results are the similar to the first model, but just slightly worse. Overall, the random forest classifier is consistent."
   ]
  },
  {
   "cell_type": "code",
   "execution_count": 22,
   "id": "5b4f635f",
   "metadata": {},
   "outputs": [
    {
     "name": "stdout",
     "output_type": "stream",
     "text": [
      "[[15274  2078]\n",
      " [  995 16103]]\n",
      "Accuracy: 0.9107982583454282\n",
      "Balanced Accuracy: 0.9110252057121313\n",
      "Classification Report:\n",
      "              precision    recall  f1-score   support\n",
      "\n",
      "           0       0.94      0.88      0.91     17352\n",
      "           1       0.89      0.94      0.91     17098\n",
      "\n",
      "    accuracy                           0.91     34450\n",
      "   macro avg       0.91      0.91      0.91     34450\n",
      "weighted avg       0.91      0.91      0.91     34450\n",
      "\n"
     ]
    }
   ],
   "source": [
    "# Confusion Matrix\n",
    "evaluateModel(y_test,y_pred2)"
   ]
  },
  {
   "cell_type": "markdown",
   "id": "ef0f45cc",
   "metadata": {},
   "source": [
    "### Level 1\n",
    "### Exercise 4 : Cross Validation\n",
    "Compare your performance using the train / test or cross-validation approach.\n",
    "\n",
    "- https://scikit-learn.org/stable/modules/cross_validation.html"
   ]
  },
  {
   "cell_type": "markdown",
   "id": "fa81f735",
   "metadata": {},
   "source": [
    "Cross Validation on the first model of the Random Forest classifier using the default parameters:\n",
    "\n",
    "The cross validation score is consistent."
   ]
  },
  {
   "cell_type": "code",
   "execution_count": 23,
   "id": "57a20571",
   "metadata": {
    "scrolled": true
   },
   "outputs": [
    {
     "name": "stderr",
     "output_type": "stream",
     "text": [
      "/Users/kat/opt/anaconda3/lib/python3.8/site-packages/sklearn/model_selection/_split.py:293: FutureWarning: Setting a random_state has no effect since shuffle is False. This will raise an error in 0.24. You should leave random_state to its default (None), or set shuffle=True.\n",
      "  warnings.warn(\n"
     ]
    },
    {
     "name": "stdout",
     "output_type": "stream",
     "text": [
      "0.92 accuracy with a standard deviation of 0.05\n"
     ]
    }
   ],
   "source": [
    "# k-fold cross validation\n",
    "# CV model\n",
    "model = RandomForestClassifier(random_state=324)\n",
    "kfold = KFold(n_splits=10, random_state=42)\n",
    "results = cross_val_score(model, X, y, cv=kfold)\n",
    "print(\"%0.2f accuracy with a standard deviation of %0.2f\" % (results.mean(), results.std()))"
   ]
  }
 ],
 "metadata": {
  "kernelspec": {
   "display_name": "Python 3 (ipykernel)",
   "language": "python",
   "name": "python3"
  },
  "language_info": {
   "codemirror_mode": {
    "name": "ipython",
    "version": 3
   },
   "file_extension": ".py",
   "mimetype": "text/x-python",
   "name": "python",
   "nbconvert_exporter": "python",
   "pygments_lexer": "ipython3",
   "version": "3.8.8"
  },
  "nbTranslate": {
   "displayLangs": [
    "es",
    "en"
   ],
   "hotkey": "alt-t",
   "langInMainMenu": true,
   "sourceLang": "en",
   "targetLang": "es",
   "useGoogleTranslate": true
  },
  "varInspector": {
   "cols": {
    "lenName": 16,
    "lenType": 16,
    "lenVar": 40
   },
   "kernels_config": {
    "python": {
     "delete_cmd_postfix": "",
     "delete_cmd_prefix": "del ",
     "library": "var_list.py",
     "varRefreshCmd": "print(var_dic_list())"
    },
    "r": {
     "delete_cmd_postfix": ") ",
     "delete_cmd_prefix": "rm(",
     "library": "var_list.r",
     "varRefreshCmd": "cat(var_dic_list()) "
    }
   },
   "types_to_exclude": [
    "module",
    "function",
    "builtin_function_or_method",
    "instance",
    "_Feature"
   ],
   "window_display": false
  }
 },
 "nbformat": 4,
 "nbformat_minor": 5
}
